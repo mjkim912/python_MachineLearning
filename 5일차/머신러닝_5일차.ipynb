{
 "cells": [
  {
   "cell_type": "code",
   "execution_count": 1,
   "id": "55210d3d",
   "metadata": {},
   "outputs": [
    {
     "name": "stdout",
     "output_type": "stream",
     "text": [
      "Collecting tensorflow\n",
      "  Downloading tensorflow-2.7.0-cp38-cp38-macosx_10_11_x86_64.whl (207.1 MB)\n",
      "     |████████████████████████████████| 207.1 MB 1.4 MB/s            \n",
      "\u001b[?25hCollecting gast<0.5.0,>=0.2.1\n",
      "  Downloading gast-0.4.0-py3-none-any.whl (9.8 kB)\n",
      "Collecting opt-einsum>=2.3.2\n",
      "  Downloading opt_einsum-3.3.0-py3-none-any.whl (65 kB)\n",
      "     |████████████████████████████████| 65 kB 1.4 MB/s            \n",
      "\u001b[?25hCollecting libclang>=9.0.1\n",
      "  Downloading libclang-12.0.0-py2.py3-none-macosx_10_9_x86_64.whl (12.2 MB)\n",
      "     |████████████████████████████████| 12.2 MB 2.2 MB/s            \n",
      "\u001b[?25hCollecting termcolor>=1.1.0\n",
      "  Downloading termcolor-1.1.0.tar.gz (3.9 kB)\n",
      "  Preparing metadata (setup.py) ... \u001b[?25ldone\n",
      "\u001b[?25hCollecting keras-preprocessing>=1.1.1\n",
      "  Downloading Keras_Preprocessing-1.1.2-py2.py3-none-any.whl (42 kB)\n",
      "     |████████████████████████████████| 42 kB 959 kB/s            \n",
      "\u001b[?25hCollecting typing-extensions>=3.6.6\n",
      "  Downloading typing_extensions-4.0.0-py3-none-any.whl (22 kB)\n",
      "Collecting tensorflow-io-gcs-filesystem>=0.21.0\n",
      "  Downloading tensorflow_io_gcs_filesystem-0.22.0-cp38-cp38-macosx_10_14_x86_64.whl (1.6 MB)\n",
      "     |████████████████████████████████| 1.6 MB 1.5 MB/s            \n",
      "\u001b[?25hCollecting wheel<1.0,>=0.32.0\n",
      "  Using cached wheel-0.37.0-py2.py3-none-any.whl (35 kB)\n",
      "Collecting wrapt>=1.11.0\n",
      "  Downloading wrapt-1.13.3-cp38-cp38-macosx_10_9_x86_64.whl (33 kB)\n",
      "Collecting protobuf>=3.9.2\n",
      "  Downloading protobuf-3.19.1-cp38-cp38-macosx_10_9_x86_64.whl (1.0 MB)\n",
      "     |████████████████████████████████| 1.0 MB 1.0 MB/s            \n",
      "\u001b[?25hCollecting h5py>=2.9.0\n",
      "  Downloading h5py-3.6.0-cp38-cp38-macosx_10_9_x86_64.whl (3.1 MB)\n",
      "     |████████████████████████████████| 3.1 MB 701 kB/s            \n",
      "\u001b[?25hCollecting keras<2.8,>=2.7.0rc0\n",
      "  Downloading keras-2.7.0-py2.py3-none-any.whl (1.3 MB)\n",
      "     |████████████████████████████████| 1.3 MB 1.3 MB/s            \n",
      "\u001b[?25hCollecting google-pasta>=0.1.1\n",
      "  Downloading google_pasta-0.2.0-py3-none-any.whl (57 kB)\n",
      "     |████████████████████████████████| 57 kB 1.4 MB/s            \n",
      "\u001b[?25hRequirement already satisfied: numpy>=1.14.5 in /Library/Frameworks/Python.framework/Versions/3.8/lib/python3.8/site-packages (from tensorflow) (1.21.4)\n",
      "Collecting tensorboard~=2.6\n",
      "  Downloading tensorboard-2.7.0-py3-none-any.whl (5.8 MB)\n",
      "     |████████████████████████████████| 5.8 MB 1.5 MB/s            \n",
      "\u001b[?25hCollecting astunparse>=1.6.0\n",
      "  Downloading astunparse-1.6.3-py2.py3-none-any.whl (12 kB)\n",
      "Collecting absl-py>=0.4.0\n",
      "  Downloading absl_py-1.0.0-py3-none-any.whl (126 kB)\n",
      "     |████████████████████████████████| 126 kB 700 kB/s            \n",
      "\u001b[?25hCollecting flatbuffers<3.0,>=1.12\n",
      "  Downloading flatbuffers-2.0-py2.py3-none-any.whl (26 kB)\n",
      "Collecting grpcio<2.0,>=1.24.3\n",
      "  Downloading grpcio-1.42.0-cp38-cp38-macosx_10_10_x86_64.whl (4.0 MB)\n",
      "     |████████████████████████████████| 4.0 MB 358 kB/s            \n",
      "\u001b[?25hCollecting tensorflow-estimator<2.8,~=2.7.0rc0\n",
      "  Downloading tensorflow_estimator-2.7.0-py2.py3-none-any.whl (463 kB)\n",
      "     |████████████████████████████████| 463 kB 1.1 MB/s            \n",
      "\u001b[?25hRequirement already satisfied: six>=1.12.0 in /Library/Frameworks/Python.framework/Versions/3.8/lib/python3.8/site-packages (from tensorflow) (1.16.0)\n",
      "Requirement already satisfied: requests<3,>=2.21.0 in /Library/Frameworks/Python.framework/Versions/3.8/lib/python3.8/site-packages (from tensorboard~=2.6->tensorflow) (2.26.0)\n",
      "Requirement already satisfied: setuptools>=41.0.0 in /Library/Frameworks/Python.framework/Versions/3.8/lib/python3.8/site-packages (from tensorboard~=2.6->tensorflow) (49.2.1)\n",
      "Collecting tensorboard-plugin-wit>=1.6.0\n",
      "  Downloading tensorboard_plugin_wit-1.8.0-py3-none-any.whl (781 kB)\n",
      "     |████████████████████████████████| 781 kB 666 kB/s            \n",
      "\u001b[?25hCollecting google-auth<3,>=1.6.3\n",
      "  Downloading google_auth-2.3.3-py2.py3-none-any.whl (155 kB)\n",
      "     |████████████████████████████████| 155 kB 1.2 MB/s            \n",
      "\u001b[?25hCollecting tensorboard-data-server<0.7.0,>=0.6.0\n",
      "  Downloading tensorboard_data_server-0.6.1-py3-none-macosx_10_9_x86_64.whl (3.5 MB)\n",
      "     |████████████████████████████████| 3.5 MB 1.3 MB/s            \n",
      "\u001b[?25hCollecting google-auth-oauthlib<0.5,>=0.4.1\n",
      "  Downloading google_auth_oauthlib-0.4.6-py2.py3-none-any.whl (18 kB)\n",
      "Collecting werkzeug>=0.11.15\n",
      "  Downloading Werkzeug-2.0.2-py3-none-any.whl (288 kB)\n",
      "     |████████████████████████████████| 288 kB 1.2 MB/s            \n",
      "\u001b[?25hCollecting markdown>=2.6.8\n",
      "  Downloading Markdown-3.3.6-py3-none-any.whl (97 kB)\n",
      "     |████████████████████████████████| 97 kB 1.2 MB/s            \n",
      "\u001b[?25hCollecting pyasn1-modules>=0.2.1\n",
      "  Downloading pyasn1_modules-0.2.8-py2.py3-none-any.whl (155 kB)\n",
      "     |████████████████████████████████| 155 kB 1.4 MB/s            \n",
      "\u001b[?25hCollecting rsa<5,>=3.1.4\n",
      "  Downloading rsa-4.8-py3-none-any.whl (39 kB)\n",
      "Collecting cachetools<5.0,>=2.0.0\n",
      "  Downloading cachetools-4.2.4-py3-none-any.whl (10 kB)\n",
      "Collecting requests-oauthlib>=0.7.0\n",
      "  Downloading requests_oauthlib-1.3.0-py2.py3-none-any.whl (23 kB)\n",
      "Collecting importlib-metadata>=4.4\n",
      "  Downloading importlib_metadata-4.8.2-py3-none-any.whl (17 kB)\n",
      "Requirement already satisfied: charset-normalizer~=2.0.0 in /Library/Frameworks/Python.framework/Versions/3.8/lib/python3.8/site-packages (from requests<3,>=2.21.0->tensorboard~=2.6->tensorflow) (2.0.7)\n",
      "Requirement already satisfied: idna<4,>=2.5 in /Library/Frameworks/Python.framework/Versions/3.8/lib/python3.8/site-packages (from requests<3,>=2.21.0->tensorboard~=2.6->tensorflow) (3.3)\n",
      "Requirement already satisfied: urllib3<1.27,>=1.21.1 in /Library/Frameworks/Python.framework/Versions/3.8/lib/python3.8/site-packages (from requests<3,>=2.21.0->tensorboard~=2.6->tensorflow) (1.26.7)\n",
      "Requirement already satisfied: certifi>=2017.4.17 in /Library/Frameworks/Python.framework/Versions/3.8/lib/python3.8/site-packages (from requests<3,>=2.21.0->tensorboard~=2.6->tensorflow) (2021.10.8)\n",
      "Requirement already satisfied: zipp>=0.5 in /Library/Frameworks/Python.framework/Versions/3.8/lib/python3.8/site-packages (from importlib-metadata>=4.4->markdown>=2.6.8->tensorboard~=2.6->tensorflow) (3.6.0)\n",
      "Collecting pyasn1<0.5.0,>=0.4.6\n",
      "  Downloading pyasn1-0.4.8-py2.py3-none-any.whl (77 kB)\n",
      "     |████████████████████████████████| 77 kB 1.1 MB/s            \n",
      "\u001b[?25hCollecting oauthlib>=3.0.0\n",
      "  Downloading oauthlib-3.1.1-py2.py3-none-any.whl (146 kB)\n",
      "     |████████████████████████████████| 146 kB 620 kB/s            \n",
      "\u001b[?25hUsing legacy 'setup.py install' for termcolor, since package 'wheel' is not installed.\n",
      "Installing collected packages: pyasn1, rsa, pyasn1-modules, oauthlib, cachetools, requests-oauthlib, importlib-metadata, google-auth, wheel, werkzeug, tensorboard-plugin-wit, tensorboard-data-server, protobuf, markdown, grpcio, google-auth-oauthlib, absl-py, wrapt, typing-extensions, termcolor, tensorflow-io-gcs-filesystem, tensorflow-estimator, tensorboard, opt-einsum, libclang, keras-preprocessing, keras, h5py, google-pasta, gast, flatbuffers, astunparse, tensorflow\n",
      "    Running setup.py install for termcolor ... \u001b[?25ldone\n",
      "\u001b[?25hSuccessfully installed absl-py-1.0.0 astunparse-1.6.3 cachetools-4.2.4 flatbuffers-2.0 gast-0.4.0 google-auth-2.3.3 google-auth-oauthlib-0.4.6 google-pasta-0.2.0 grpcio-1.42.0 h5py-3.6.0 importlib-metadata-4.8.2 keras-2.7.0 keras-preprocessing-1.1.2 libclang-12.0.0 markdown-3.3.6 oauthlib-3.1.1 opt-einsum-3.3.0 protobuf-3.19.1 pyasn1-0.4.8 pyasn1-modules-0.2.8 requests-oauthlib-1.3.0 rsa-4.8 tensorboard-2.7.0 tensorboard-data-server-0.6.1 tensorboard-plugin-wit-1.8.0 tensorflow-2.7.0 tensorflow-estimator-2.7.0 tensorflow-io-gcs-filesystem-0.22.0 termcolor-1.1.0 typing-extensions-4.0.0 werkzeug-2.0.2 wheel-0.37.0 wrapt-1.13.3\n"
     ]
    }
   ],
   "source": [
    "!pip install tensorflow"
   ]
  },
  {
   "cell_type": "code",
   "execution_count": 2,
   "id": "a13cdad5",
   "metadata": {},
   "outputs": [
    {
     "name": "stdout",
     "output_type": "stream",
     "text": [
      "Requirement already satisfied: keras in /Library/Frameworks/Python.framework/Versions/3.8/lib/python3.8/site-packages (2.7.0)\r\n"
     ]
    }
   ],
   "source": [
    "!pip install keras"
   ]
  },
  {
   "cell_type": "code",
   "execution_count": 3,
   "id": "b364fcc2",
   "metadata": {},
   "outputs": [],
   "source": [
    "import tensorflow as tf\n",
    "import keras"
   ]
  },
  {
   "cell_type": "code",
   "execution_count": 4,
   "id": "ea00174c",
   "metadata": {},
   "outputs": [
    {
     "name": "stdout",
     "output_type": "stream",
     "text": [
      "2.7.0\n"
     ]
    }
   ],
   "source": [
    "print(tf.__version__)"
   ]
  },
  {
   "cell_type": "code",
   "execution_count": 5,
   "id": "25a32f30",
   "metadata": {},
   "outputs": [
    {
     "name": "stdout",
     "output_type": "stream",
     "text": [
      "2.7.0\n"
     ]
    }
   ],
   "source": [
    "print(keras.__version__)"
   ]
  },
  {
   "cell_type": "markdown",
   "id": "44a6318e",
   "metadata": {},
   "source": [
    "## 선형회귀란 --> 로지스틱회귀(Logistic Regression)\n",
    "\n",
    "관찰된 데이터들을 기반으로 하나의 함수를 구해서 관찰되지 않은 데이터의 값을 예측한다."
   ]
  },
  {
   "cell_type": "markdown",
   "id": "e1d9a5a1",
   "metadata": {},
   "source": [
    "## matplotlib 학습사이트\n",
    "\n",
    "https://codetorial.net/matplotlib/index.html"
   ]
  },
  {
   "cell_type": "markdown",
   "id": "53baf06c",
   "metadata": {},
   "source": [
    "# 실습1 : 바게트빵(길이&가격)"
   ]
  },
  {
   "cell_type": "code",
   "execution_count": 25,
   "id": "3a7c0950",
   "metadata": {},
   "outputs": [],
   "source": [
    "import numpy as np\n",
    "import matplotlib.pyplot as plt\n",
    "import pandas as pd"
   ]
  },
  {
   "cell_type": "code",
   "execution_count": 8,
   "id": "e8c4bb95",
   "metadata": {},
   "outputs": [],
   "source": [
    "X = np.array([6, 8, 10, 15, 18])  # 빵의 길이 (train_data) : 학습용데이터\n",
    "y = np.array([7, 9, 13, 17.7, 19.3]) # 빵의 가격 (train_label) : 학습용정답"
   ]
  },
  {
   "cell_type": "code",
   "execution_count": 9,
   "id": "069f3f59",
   "metadata": {},
   "outputs": [
    {
     "data": {
      "image/png": "[encoded data removed]",
      "text/plain": [
       "<Figure size 432x288 with 1 Axes>"
      ]
     },
     "metadata": {
      "needs_background": "light"
     },
     "output_type": "display_data"
    }
   ],
   "source": [
    "# 데이터 시각화\n",
    "\n",
    "plt.figure()\n",
    "plt.plot(X, y, 'ro') # 마커색상 + 마커모양 지정 (red, 동그라미 모양)\n",
    "plt.title('Baguette(inch)') # 그래프 제목\n",
    "plt.xlabel('inches') # x축 이름\n",
    "plt.ylabel('prices') # y축 이름\n",
    "plt.axis([0, 25, 0, 25]) # 축범위 지정 = axis[x축범위, y축범위]\n",
    "plt.grid()  # 가로/세로 라인 출력(격자무늬)\n",
    "plt.show()"
   ]
  },
  {
   "cell_type": "markdown",
   "id": "4315019b",
   "metadata": {},
   "source": [
    "- 예측을 위한 데이터의 연결선을 그린다."
   ]
  },
  {
   "cell_type": "code",
   "execution_count": 21,
   "id": "f54b4909",
   "metadata": {},
   "outputs": [],
   "source": [
    "# 가중치를 이용하여 선을 그려주는 함수 생성\n",
    "\n",
    "def linear_func1(data):\n",
    "    return data * 1.3 - 0.1 # 가중치는 임의로 선언 (가중치 : * 1.3 - 0.1)"
   ]
  },
  {
   "cell_type": "code",
   "execution_count": 11,
   "id": "db3810d1",
   "metadata": {},
   "outputs": [
    {
     "data": {
      "image/png": "[encoded data removed]",
      "text/plain": [
       "<Figure size 432x288 with 1 Axes>"
      ]
     },
     "metadata": {
      "needs_background": "light"
     },
     "output_type": "display_data"
    }
   ],
   "source": [
    "# 데이터 시각화\n",
    "\n",
    "plt.figure()\n",
    "plt.plot(X, y, 'ro') # 마커색상 + 마커모양 지정 (red, 동그라미 모양)\n",
    "plt.plot(X, linear_func1(X), 'k--') # k : 검정색, -- : 점선\n",
    "plt.title('Baguette(inch)') # 그래프 제목\n",
    "plt.xlabel('inches') # x축 이름\n",
    "plt.ylabel('prices') # y축 이름\n",
    "plt.axis([0, 25, 0, 25]) # 축범위 지정 = axis[x축범위, y축범위]\n",
    "plt.grid()  # 가로/세로 라인 출력(격자무늬)\n",
    "plt.show()"
   ]
  },
  {
   "cell_type": "code",
   "execution_count": 19,
   "id": "84071dc6",
   "metadata": {},
   "outputs": [],
   "source": [
    "# 가중치를 조정\n",
    "\n",
    "def linear_func2(data):\n",
    "    return data * 0.8 + 4.04"
   ]
  },
  {
   "cell_type": "code",
   "execution_count": 22,
   "id": "57c82583",
   "metadata": {},
   "outputs": [
    {
     "data": {
      "image/png": "[encoded data removed]",
      "text/plain": [
       "<Figure size 432x288 with 1 Axes>"
      ]
     },
     "metadata": {
      "needs_background": "light"
     },
     "output_type": "display_data"
    }
   ],
   "source": [
    "# 데이터 시각화\n",
    "\n",
    "plt.figure()\n",
    "plt.plot(X, y, 'ro') # 마커색상 + 마커모양 지정 (red, 동그라미 모양)\n",
    "plt.plot(X, linear_func1(X), 'k--') # k : 검정색, -- : 점선\n",
    "plt.plot(X, linear_func2(X), 'g--') # g : 초록색, -- : 점선\n",
    "plt.title('Baguette(inch)') # 그래프 제목\n",
    "plt.xlabel('inches') # x축 이름\n",
    "plt.ylabel('prices') # y축 이름\n",
    "plt.axis([0, 25, 0, 25]) # 축범위 지정 = axis[x축범위, y축범위]\n",
    "plt.grid()  # 가로/세로 라인 출력(격자무늬)\n",
    "plt.show()"
   ]
  },
  {
   "cell_type": "markdown",
   "id": "d3ab326a",
   "metadata": {},
   "source": [
    "- 위의 코드를 컴퓨터에게 학습시킨다."
   ]
  },
  {
   "cell_type": "code",
   "execution_count": 23,
   "id": "194c7d33",
   "metadata": {},
   "outputs": [],
   "source": [
    "from sklearn.linear_model import LinearRegression\n",
    "\n",
    "model = LinearRegression()"
   ]
  },
  {
   "cell_type": "code",
   "execution_count": 24,
   "id": "ecef2464",
   "metadata": {},
   "outputs": [
    {
     "ename": "ValueError",
     "evalue": "Expected 2D array, got 1D array instead:\narray=[ 6  8 10 15 18].\nReshape your data either using array.reshape(-1, 1) if your data has a single feature or array.reshape(1, -1) if it contains a single sample.",
     "output_type": "error",
     "traceback": [
      "\u001b[0;31m---------------------------------------------------------------------------\u001b[0m",
      "\u001b[0;31mValueError\u001b[0m                                Traceback (most recent call last)",
      "\u001b[0;32m/var/folders/kz/hx0f420x1p1bnb89fzrky4qc0000gn/T/ipykernel_733/2147392237.py\u001b[0m in \u001b[0;36m<module>\u001b[0;34m\u001b[0m\n\u001b[1;32m      1\u001b[0m \u001b[0;31m# 학습\u001b[0m\u001b[0;34m\u001b[0m\u001b[0;34m\u001b[0m\u001b[0;34m\u001b[0m\u001b[0m\n\u001b[0;32m----> 2\u001b[0;31m \u001b[0mmodel\u001b[0m\u001b[0;34m.\u001b[0m\u001b[0mfit\u001b[0m\u001b[0;34m(\u001b[0m\u001b[0mX\u001b[0m\u001b[0;34m,\u001b[0m \u001b[0my\u001b[0m\u001b[0;34m)\u001b[0m\u001b[0;34m\u001b[0m\u001b[0;34m\u001b[0m\u001b[0m\n\u001b[0m",
      "\u001b[0;32m/Library/Frameworks/Python.framework/Versions/3.8/lib/python3.8/site-packages/sklearn/linear_model/_base.py\u001b[0m in \u001b[0;36mfit\u001b[0;34m(self, X, y, sample_weight)\u001b[0m\n\u001b[1;32m    660\u001b[0m         \u001b[0maccept_sparse\u001b[0m \u001b[0;34m=\u001b[0m \u001b[0;32mFalse\u001b[0m \u001b[0;32mif\u001b[0m \u001b[0mself\u001b[0m\u001b[0;34m.\u001b[0m\u001b[0mpositive\u001b[0m \u001b[0;32melse\u001b[0m \u001b[0;34m[\u001b[0m\u001b[0;34m\"csr\"\u001b[0m\u001b[0;34m,\u001b[0m \u001b[0;34m\"csc\"\u001b[0m\u001b[0;34m,\u001b[0m \u001b[0;34m\"coo\"\u001b[0m\u001b[0;34m]\u001b[0m\u001b[0;34m\u001b[0m\u001b[0;34m\u001b[0m\u001b[0m\n\u001b[1;32m    661\u001b[0m \u001b[0;34m\u001b[0m\u001b[0m\n\u001b[0;32m--> 662\u001b[0;31m         X, y = self._validate_data(\n\u001b[0m\u001b[1;32m    663\u001b[0m             \u001b[0mX\u001b[0m\u001b[0;34m,\u001b[0m \u001b[0my\u001b[0m\u001b[0;34m,\u001b[0m \u001b[0maccept_sparse\u001b[0m\u001b[0;34m=\u001b[0m\u001b[0maccept_sparse\u001b[0m\u001b[0;34m,\u001b[0m \u001b[0my_numeric\u001b[0m\u001b[0;34m=\u001b[0m\u001b[0;32mTrue\u001b[0m\u001b[0;34m,\u001b[0m \u001b[0mmulti_output\u001b[0m\u001b[0;34m=\u001b[0m\u001b[0;32mTrue\u001b[0m\u001b[0;34m\u001b[0m\u001b[0;34m\u001b[0m\u001b[0m\n\u001b[1;32m    664\u001b[0m         )\n",
      "\u001b[0;32m/Library/Frameworks/Python.framework/Versions/3.8/lib/python3.8/site-packages/sklearn/base.py\u001b[0m in \u001b[0;36m_validate_data\u001b[0;34m(self, X, y, reset, validate_separately, **check_params)\u001b[0m\n\u001b[1;32m    574\u001b[0m                 \u001b[0my\u001b[0m \u001b[0;34m=\u001b[0m \u001b[0mcheck_array\u001b[0m\u001b[0;34m(\u001b[0m\u001b[0my\u001b[0m\u001b[0;34m,\u001b[0m \u001b[0;34m**\u001b[0m\u001b[0mcheck_y_params\u001b[0m\u001b[0;34m)\u001b[0m\u001b[0;34m\u001b[0m\u001b[0;34m\u001b[0m\u001b[0m\n\u001b[1;32m    575\u001b[0m             \u001b[0;32melse\u001b[0m\u001b[0;34m:\u001b[0m\u001b[0;34m\u001b[0m\u001b[0;34m\u001b[0m\u001b[0m\n\u001b[0;32m--> 576\u001b[0;31m                 \u001b[0mX\u001b[0m\u001b[0;34m,\u001b[0m \u001b[0my\u001b[0m \u001b[0;34m=\u001b[0m \u001b[0mcheck_X_y\u001b[0m\u001b[0;34m(\u001b[0m\u001b[0mX\u001b[0m\u001b[0;34m,\u001b[0m \u001b[0my\u001b[0m\u001b[0;34m,\u001b[0m \u001b[0;34m**\u001b[0m\u001b[0mcheck_params\u001b[0m\u001b[0;34m)\u001b[0m\u001b[0;34m\u001b[0m\u001b[0;34m\u001b[0m\u001b[0m\n\u001b[0m\u001b[1;32m    577\u001b[0m             \u001b[0mout\u001b[0m \u001b[0;34m=\u001b[0m \u001b[0mX\u001b[0m\u001b[0;34m,\u001b[0m \u001b[0my\u001b[0m\u001b[0;34m\u001b[0m\u001b[0;34m\u001b[0m\u001b[0m\n\u001b[1;32m    578\u001b[0m \u001b[0;34m\u001b[0m\u001b[0m\n",
      "\u001b[0;32m/Library/Frameworks/Python.framework/Versions/3.8/lib/python3.8/site-packages/sklearn/utils/validation.py\u001b[0m in \u001b[0;36mcheck_X_y\u001b[0;34m(X, y, accept_sparse, accept_large_sparse, dtype, order, copy, force_all_finite, ensure_2d, allow_nd, multi_output, ensure_min_samples, ensure_min_features, y_numeric, estimator)\u001b[0m\n\u001b[1;32m    954\u001b[0m         \u001b[0;32mraise\u001b[0m \u001b[0mValueError\u001b[0m\u001b[0;34m(\u001b[0m\u001b[0;34m\"y cannot be None\"\u001b[0m\u001b[0;34m)\u001b[0m\u001b[0;34m\u001b[0m\u001b[0;34m\u001b[0m\u001b[0m\n\u001b[1;32m    955\u001b[0m \u001b[0;34m\u001b[0m\u001b[0m\n\u001b[0;32m--> 956\u001b[0;31m     X = check_array(\n\u001b[0m\u001b[1;32m    957\u001b[0m         \u001b[0mX\u001b[0m\u001b[0;34m,\u001b[0m\u001b[0;34m\u001b[0m\u001b[0;34m\u001b[0m\u001b[0m\n\u001b[1;32m    958\u001b[0m         \u001b[0maccept_sparse\u001b[0m\u001b[0;34m=\u001b[0m\u001b[0maccept_sparse\u001b[0m\u001b[0;34m,\u001b[0m\u001b[0;34m\u001b[0m\u001b[0;34m\u001b[0m\u001b[0m\n",
      "\u001b[0;32m/Library/Frameworks/Python.framework/Versions/3.8/lib/python3.8/site-packages/sklearn/utils/validation.py\u001b[0m in \u001b[0;36mcheck_array\u001b[0;34m(array, accept_sparse, accept_large_sparse, dtype, order, copy, force_all_finite, ensure_2d, allow_nd, ensure_min_samples, ensure_min_features, estimator)\u001b[0m\n\u001b[1;32m    759\u001b[0m             \u001b[0;31m# If input is 1D raise error\u001b[0m\u001b[0;34m\u001b[0m\u001b[0;34m\u001b[0m\u001b[0;34m\u001b[0m\u001b[0m\n\u001b[1;32m    760\u001b[0m             \u001b[0;32mif\u001b[0m \u001b[0marray\u001b[0m\u001b[0;34m.\u001b[0m\u001b[0mndim\u001b[0m \u001b[0;34m==\u001b[0m \u001b[0;36m1\u001b[0m\u001b[0;34m:\u001b[0m\u001b[0;34m\u001b[0m\u001b[0;34m\u001b[0m\u001b[0m\n\u001b[0;32m--> 761\u001b[0;31m                 raise ValueError(\n\u001b[0m\u001b[1;32m    762\u001b[0m                     \u001b[0;34m\"Expected 2D array, got 1D array instead:\\narray={}.\\n\"\u001b[0m\u001b[0;34m\u001b[0m\u001b[0;34m\u001b[0m\u001b[0m\n\u001b[1;32m    763\u001b[0m                     \u001b[0;34m\"Reshape your data either using array.reshape(-1, 1) if \"\u001b[0m\u001b[0;34m\u001b[0m\u001b[0;34m\u001b[0m\u001b[0m\n",
      "\u001b[0;31mValueError\u001b[0m: Expected 2D array, got 1D array instead:\narray=[ 6  8 10 15 18].\nReshape your data either using array.reshape(-1, 1) if your data has a single feature or array.reshape(1, -1) if it contains a single sample."
     ]
    }
   ],
   "source": [
    "# 학습 : 현재 선언된 데이터가 1차원배열이기 때문에 에러가 발생한다.\n",
    "model.fit(X, y)"
   ]
  },
  {
   "cell_type": "markdown",
   "id": "70ee58a6",
   "metadata": {},
   "source": [
    "- 데이터 차원 변경 : reshape(행, 열)"
   ]
  },
  {
   "cell_type": "code",
   "execution_count": 26,
   "id": "20f899d7",
   "metadata": {},
   "outputs": [],
   "source": [
    "X = X.reshape(-1, 1)"
   ]
  },
  {
   "cell_type": "code",
   "execution_count": 27,
   "id": "2222788f",
   "metadata": {},
   "outputs": [
    {
     "data": {
      "text/plain": [
       "LinearRegression()"
      ]
     },
     "execution_count": 27,
     "metadata": {},
     "output_type": "execute_result"
    }
   ],
   "source": [
    "# 학습 (y값은 레이블이라서 1차원이여도 상관없다)\n",
    "model.fit(X, y)"
   ]
  },
  {
   "cell_type": "code",
   "execution_count": 28,
   "id": "ee272bdf",
   "metadata": {},
   "outputs": [
    {
     "name": "stdout",
     "output_type": "stream",
     "text": [
      "정확도 :  0.9692125842805129\n"
     ]
    }
   ],
   "source": [
    "# 평가\n",
    "\n",
    "print(\"정확도 : \", model.score(X, y))"
   ]
  },
  {
   "cell_type": "code",
   "execution_count": 29,
   "id": "7f73fec8",
   "metadata": {},
   "outputs": [
    {
     "data": {
      "image/png": "[encoded data removed]",
      "text/plain": [
       "<Figure size 432x288 with 1 Axes>"
      ]
     },
     "metadata": {
      "needs_background": "light"
     },
     "output_type": "display_data"
    }
   ],
   "source": [
    "# 데이터 시각화\n",
    "\n",
    "plt.figure()\n",
    "plt.plot(X, y, 'ro') # 마커색상 + 마커모양 지정 (red, 동그라미 모양)\n",
    "plt.plot(X, model.predict(X), 'b--')\n",
    "plt.title('Baguette(inch)') # 그래프 제목\n",
    "plt.xlabel('inches') # x축 이름\n",
    "plt.ylabel('prices') # y축 이름\n",
    "plt.axis([0, 25, 0, 25]) # 축범위 지정 = axis[x축범위, y축범위]\n",
    "plt.grid()  # 가로/세로 라인 출력(격자무늬)\n",
    "plt.show()"
   ]
  },
  {
   "cell_type": "markdown",
   "id": "8759b21f",
   "metadata": {},
   "source": [
    " 컴퓨터가 y = ax + b 계산식을 정의하였다.\n",
    " \n",
    " - coef_ 메서드 ----------------> bios 편향을 확인할 수 있다.\n",
    " - intercept_ 메서드 -----------> 절편을 확인할 수 있다."
   ]
  },
  {
   "cell_type": "code",
   "execution_count": 30,
   "id": "a4fbc8b2",
   "metadata": {},
   "outputs": [
    {
     "name": "stdout",
     "output_type": "stream",
     "text": [
      "[1.05342742] 1.1909274193548374\n"
     ]
    }
   ],
   "source": [
    "print(model.coef_, model.intercept_)"
   ]
  },
  {
   "cell_type": "markdown",
   "id": "42016bbf",
   "metadata": {},
   "source": [
    "- 위의 값들을 이용하여 ax + b 식에 대입할 경우"
   ]
  },
  {
   "cell_type": "code",
   "execution_count": 31,
   "id": "03428b89",
   "metadata": {},
   "outputs": [
    {
     "name": "stdout",
     "output_type": "stream",
     "text": [
      "[ 7.51149194  9.61834677 11.72520161 16.99233871 20.15262097]\n"
     ]
    }
   ],
   "source": [
    "predict_1 = model.predict(X)\n",
    "print(predict_1)"
   ]
  },
  {
   "cell_type": "code",
   "execution_count": 32,
   "id": "e8d146d5",
   "metadata": {},
   "outputs": [
    {
     "name": "stdout",
     "output_type": "stream",
     "text": [
      "[[ 7.51149194]\n",
      " [ 9.61834677]\n",
      " [11.72520161]\n",
      " [16.99233871]\n",
      " [20.15262097]]\n"
     ]
    }
   ],
   "source": [
    "predict_2 = X * model.coef_ + model.intercept_\n",
    "print(predict_2)"
   ]
  },
  {
   "cell_type": "markdown",
   "id": "1a1a2c88",
   "metadata": {},
   "source": [
    "# 실습2 : 축구선수 성과"
   ]
  },
  {
   "cell_type": "code",
   "execution_count": 38,
   "id": "3ab8d02f",
   "metadata": {},
   "outputs": [
    {
     "data": {
      "image/png": "[encoded data removed]",
      "text/plain": [
       "<Figure size 432x288 with 1 Axes>"
      ]
     },
     "metadata": {
      "needs_background": "light"
     },
     "output_type": "display_data"
    }
   ],
   "source": [
    "X2 = np.array([1, 3, 5])\n",
    "y2 = np.array([1, 3, 5])\n",
    "\n",
    "X2 = X2.reshape(-1, 1)\n",
    "\n",
    "model.fit(X2, y2)\n",
    "\n",
    "# 데이터 시각화\n",
    "\n",
    "plt.figure()\n",
    "plt.plot(X2, y2, 'ro') # 마커색상 + 마커모양 지정 (red, 동그라미 모양)\n",
    "plt.plot(X2, model.predict(X2), 'b--')\n",
    "plt.title('Football') # 그래프 제목\n",
    "plt.xlabel('Shoot') # x축 이름\n",
    "plt.ylabel('Goal') # y축 이름\n",
    "plt.axis([0, 7, 0, 7]) # 축범위 지정 = axis[x축범위, y축범위]\n",
    "plt.grid()  # 가로/세로 라인 출력(격자무늬)\n",
    "plt.show()"
   ]
  },
  {
   "cell_type": "markdown",
   "id": "8ff8af2c",
   "metadata": {},
   "source": [
    "- 데이터 프레임으로 작업 할 경우"
   ]
  },
  {
   "cell_type": "code",
   "execution_count": 39,
   "id": "c4dfbe3d",
   "metadata": {},
   "outputs": [],
   "source": [
    "import numpy as np\n",
    "import matplotlib.pyplot as plt\n",
    "import pandas as pd\n",
    "from sklearn.linear_model import LinearRegression"
   ]
  },
  {
   "cell_type": "code",
   "execution_count": 40,
   "id": "2b07a0ce",
   "metadata": {},
   "outputs": [
    {
     "data": {
      "text/html": [
       "<div>\n",
       "<style scoped>\n",
       "    .dataframe tbody tr th:only-of-type {\n",
       "        vertical-align: middle;\n",
       "    }\n",
       "\n",
       "    .dataframe tbody tr th {\n",
       "        vertical-align: top;\n",
       "    }\n",
       "\n",
       "    .dataframe thead th {\n",
       "        text-align: right;\n",
       "    }\n",
       "</style>\n",
       "<table border=\"1\" class=\"dataframe\">\n",
       "  <thead>\n",
       "    <tr style=\"text-align: right;\">\n",
       "      <th></th>\n",
       "      <th>shoot</th>\n",
       "      <th>goal</th>\n",
       "    </tr>\n",
       "  </thead>\n",
       "  <tbody>\n",
       "    <tr>\n",
       "      <th>0</th>\n",
       "      <td>1</td>\n",
       "      <td>1</td>\n",
       "    </tr>\n",
       "    <tr>\n",
       "      <th>1</th>\n",
       "      <td>3</td>\n",
       "      <td>3</td>\n",
       "    </tr>\n",
       "    <tr>\n",
       "      <th>2</th>\n",
       "      <td>5</td>\n",
       "      <td>5</td>\n",
       "    </tr>\n",
       "  </tbody>\n",
       "</table>\n",
       "</div>"
      ],
      "text/plain": [
       "   shoot  goal\n",
       "0      1     1\n",
       "1      3     3\n",
       "2      5     5"
      ]
     },
     "execution_count": 40,
     "metadata": {},
     "output_type": "execute_result"
    }
   ],
   "source": [
    "data = {\n",
    "    'shoot':[1, 3, 5],\n",
    "    'goal':[1, 3, 5]\n",
    "}\n",
    "\n",
    "data = pd.DataFrame(data)\n",
    "data"
   ]
  },
  {
   "cell_type": "code",
   "execution_count": 41,
   "id": "bc9b5922",
   "metadata": {},
   "outputs": [
    {
     "data": {
      "image/png": "[encoded data removed]",
      "text/plain": [
       "<Figure size 432x288 with 1 Axes>"
      ]
     },
     "metadata": {
      "needs_background": "light"
     },
     "output_type": "display_data"
    }
   ],
   "source": [
    "# 시각화\n",
    "\n",
    "X = data['shoot']\n",
    "y = data['goal']\n",
    "\n",
    "plt.plot(X, y, 'o')\n",
    "plt.show()"
   ]
  },
  {
   "cell_type": "code",
   "execution_count": 42,
   "id": "ebf4ee76",
   "metadata": {},
   "outputs": [
    {
     "data": {
      "text/plain": [
       "LinearRegression()"
      ]
     },
     "execution_count": 42,
     "metadata": {},
     "output_type": "execute_result"
    }
   ],
   "source": [
    "# 모델 생성 후 학습시킨다.\n",
    "\n",
    "line_filter = LinearRegression()\n",
    "\n",
    "line_filter.fit(X.values.reshape(-1, 1), y)"
   ]
  },
  {
   "cell_type": "markdown",
   "id": "8c61c1bc",
   "metadata": {},
   "source": [
    "- 예측"
   ]
  },
  {
   "cell_type": "code",
   "execution_count": 43,
   "id": "4c5471ef",
   "metadata": {},
   "outputs": [
    {
     "data": {
      "text/plain": [
       "array([4.])"
      ]
     },
     "execution_count": 43,
     "metadata": {},
     "output_type": "execute_result"
    }
   ],
   "source": [
    "line_filter.predict([[4]])"
   ]
  },
  {
   "cell_type": "code",
   "execution_count": 44,
   "id": "fbe388a4",
   "metadata": {},
   "outputs": [
    {
     "data": {
      "text/plain": [
       "array([1.])"
      ]
     },
     "execution_count": 44,
     "metadata": {},
     "output_type": "execute_result"
    }
   ],
   "source": [
    "# 기울기 확인\n",
    "\n",
    "line_filter.coef_"
   ]
  },
  {
   "cell_type": "code",
   "execution_count": 45,
   "id": "bd701549",
   "metadata": {},
   "outputs": [
    {
     "data": {
      "text/plain": [
       "8.881784197001252e-16"
      ]
     },
     "execution_count": 45,
     "metadata": {},
     "output_type": "execute_result"
    }
   ],
   "source": [
    "# 절편 확인\n",
    "\n",
    "line_filter.intercept_"
   ]
  },
  {
   "cell_type": "code",
   "execution_count": 50,
   "id": "9c5c3b82",
   "metadata": {},
   "outputs": [
    {
     "data": {
      "image/png": "[encoded data removed]",
      "text/plain": [
       "<Figure size 432x288 with 1 Axes>"
      ]
     },
     "metadata": {
      "needs_background": "light"
     },
     "output_type": "display_data"
    }
   ],
   "source": [
    "# X값으로 y를 예측해서 그래프 출력\n",
    "\n",
    "plt.plot(X, y, 'o')\n",
    "plt.plot(X, y, 'ro')\n",
    "plt.plot(X, line_filter.predict(X.values.reshape(-1, 1)))\n",
    "plt.show()"
   ]
  },
  {
   "cell_type": "markdown",
   "id": "597a2bf7",
   "metadata": {},
   "source": [
    "- 선형회귀 모델을 만들어 데이터를 학습시킨다."
   ]
  },
  {
   "cell_type": "code",
   "execution_count": 52,
   "id": "1f96207b",
   "metadata": {},
   "outputs": [
    {
     "data": {
      "text/plain": [
       "<AxesSubplot:xlabel='shoot', ylabel='goal'>"
      ]
     },
     "execution_count": 52,
     "metadata": {},
     "output_type": "execute_result"
    },
    {
     "data": {
      "image/png": "[encoded data removed]",
      "text/plain": [
       "<Figure size 360x360 with 1 Axes>"
      ]
     },
     "metadata": {
      "needs_background": "light"
     },
     "output_type": "display_data"
    }
   ],
   "source": [
    "# 산점도로 데이터 출력\n",
    "\n",
    "data.plot(kind='scatter',\n",
    "         x='shoot', y='goal',\n",
    "         figsize=(5, 5), \n",
    "         color='r')"
   ]
  },
  {
   "cell_type": "code",
   "execution_count": null,
   "id": "56b4a852",
   "metadata": {},
   "outputs": [],
   "source": [
    "linear_regression = LinearRegression()\n",
    "linear_regression.fit(X=pd.DataFrame(data['x'], data['y']))\n",
    "\n",
    "prediction = linear_regression.predict(X=pd.DataFrame(data['x']))\n",
    "\n",
    "print(\"절편 : \" , linear_regression.intercept_)\n",
    "print(\"기울기 : \", linear_regression.coef_)"
   ]
  },
  {
   "cell_type": "markdown",
   "id": "271f2240",
   "metadata": {},
   "source": [
    "------------------------"
   ]
  },
  {
   "cell_type": "markdown",
   "id": "b8e6b460",
   "metadata": {},
   "source": [
    "# 실습 : 배달음식 소유시간"
   ]
  },
  {
   "cell_type": "code",
   "execution_count": 57,
   "id": "21a49927",
   "metadata": {},
   "outputs": [],
   "source": [
    "import numpy as np\n",
    "import matplotlib.pyplot as plt\n",
    "import pandas as pd\n",
    "from sklearn.linear_model import LinearRegression\n",
    "\n",
    "model = LinearRegression()"
   ]
  },
  {
   "cell_type": "code",
   "execution_count": 55,
   "id": "4e948d4b",
   "metadata": {},
   "outputs": [
    {
     "data": {
      "text/html": [
       "<div>\n",
       "<style scoped>\n",
       "    .dataframe tbody tr th:only-of-type {\n",
       "        vertical-align: middle;\n",
       "    }\n",
       "\n",
       "    .dataframe tbody tr th {\n",
       "        vertical-align: top;\n",
       "    }\n",
       "\n",
       "    .dataframe thead th {\n",
       "        text-align: right;\n",
       "    }\n",
       "</style>\n",
       "<table border=\"1\" class=\"dataframe\">\n",
       "  <thead>\n",
       "    <tr style=\"text-align: right;\">\n",
       "      <th></th>\n",
       "      <th>meter</th>\n",
       "      <th>min</th>\n",
       "    </tr>\n",
       "  </thead>\n",
       "  <tbody>\n",
       "    <tr>\n",
       "      <th>0</th>\n",
       "      <td>100</td>\n",
       "      <td>20</td>\n",
       "    </tr>\n",
       "    <tr>\n",
       "      <th>1</th>\n",
       "      <td>150</td>\n",
       "      <td>24</td>\n",
       "    </tr>\n",
       "    <tr>\n",
       "      <th>2</th>\n",
       "      <td>300</td>\n",
       "      <td>36</td>\n",
       "    </tr>\n",
       "    <tr>\n",
       "      <th>3</th>\n",
       "      <td>400</td>\n",
       "      <td>47</td>\n",
       "    </tr>\n",
       "    <tr>\n",
       "      <th>4</th>\n",
       "      <td>130</td>\n",
       "      <td>22</td>\n",
       "    </tr>\n",
       "  </tbody>\n",
       "</table>\n",
       "</div>"
      ],
      "text/plain": [
       "   meter  min\n",
       "0    100   20\n",
       "1    150   24\n",
       "2    300   36\n",
       "3    400   47\n",
       "4    130   22"
      ]
     },
     "execution_count": 55,
     "metadata": {},
     "output_type": "execute_result"
    }
   ],
   "source": [
    "data = {\n",
    "    'meter':[100, 150, 300, 400, 130],\n",
    "    'min':[20, 24, 36, 47, 22]\n",
    "}\n",
    "\n",
    "data = pd.DataFrame(data)\n",
    "data"
   ]
  },
  {
   "cell_type": "code",
   "execution_count": 56,
   "id": "93814c2a",
   "metadata": {},
   "outputs": [
    {
     "data": {
      "image/png": "[encoded data removed]",
      "text/plain": [
       "<Figure size 432x288 with 1 Axes>"
      ]
     },
     "metadata": {
      "needs_background": "light"
     },
     "output_type": "display_data"
    }
   ],
   "source": [
    "# 시각화\n",
    "\n",
    "X = data['meter']\n",
    "y = data['min']\n",
    "\n",
    "plt.plot(X, y, 'o')\n",
    "plt.grid()\n",
    "plt.show()"
   ]
  },
  {
   "cell_type": "code",
   "execution_count": 58,
   "id": "a32655e3",
   "metadata": {},
   "outputs": [
    {
     "data": {
      "text/plain": [
       "LinearRegression()"
      ]
     },
     "execution_count": 58,
     "metadata": {},
     "output_type": "execute_result"
    }
   ],
   "source": [
    "model.fit(X.values.reshape(-1, 1), y)"
   ]
  },
  {
   "cell_type": "code",
   "execution_count": 59,
   "id": "d4cc3ae4",
   "metadata": {},
   "outputs": [
    {
     "data": {
      "text/plain": [
       "array([28.37810042])"
      ]
     },
     "execution_count": 59,
     "metadata": {},
     "output_type": "execute_result"
    }
   ],
   "source": [
    "# 거리가 200미터인 경우 소요시간은?  --- 약 28분\n",
    "model.predict([[200]])   # 예측값도 2차원값으로 설정해주어야 한다."
   ]
  },
  {
   "cell_type": "code",
   "execution_count": 61,
   "id": "15b0fa3e",
   "metadata": {},
   "outputs": [
    {
     "name": "stdout",
     "output_type": "stream",
     "text": [
      "기울기 : [0.08886872]\n",
      "절편 :  10.604355716878406\n"
     ]
    }
   ],
   "source": [
    "# 기울기/절편 확인\n",
    "print('기울기 :', model.coef_)\n",
    "print('절편 : ', model.intercept_)"
   ]
  },
  {
   "cell_type": "markdown",
   "id": "bf3537f2",
   "metadata": {},
   "source": [
    "- 예측 그래프 출력"
   ]
  },
  {
   "cell_type": "code",
   "execution_count": 62,
   "id": "5a2e7399",
   "metadata": {},
   "outputs": [
    {
     "data": {
      "image/png": "[encoded data removed]",
      "text/plain": [
       "<Figure size 432x288 with 1 Axes>"
      ]
     },
     "metadata": {
      "needs_background": "light"
     },
     "output_type": "display_data"
    }
   ],
   "source": [
    "# X값으로 y를 예측해서 그래프 출력\n",
    "\n",
    "plt.plot(X, y, 'ro')\n",
    "plt.plot(X, model.predict(X.values.reshape(-1, 1)))\n",
    "plt.grid()\n",
    "plt.show()"
   ]
  },
  {
   "cell_type": "markdown",
   "id": "ad8dbb71",
   "metadata": {},
   "source": [
    "------------------------------------------"
   ]
  },
  {
   "cell_type": "markdown",
   "id": "c57eb4f0",
   "metadata": {},
   "source": [
    "# 실습 : 키와 몸무게"
   ]
  },
  {
   "cell_type": "code",
   "execution_count": 63,
   "id": "38cb63f3",
   "metadata": {},
   "outputs": [],
   "source": [
    "from sklearn.linear_model import LinearRegression\n",
    "import pandas as pd\n",
    "import numpy as np\n",
    "import matplotlib.pyplot as plt"
   ]
  },
  {
   "cell_type": "markdown",
   "id": "34fa9c7f",
   "metadata": {},
   "source": [
    "- CSV 파일을 직접 생성할 경우"
   ]
  },
  {
   "cell_type": "code",
   "execution_count": 65,
   "id": "0da8e201",
   "metadata": {},
   "outputs": [
    {
     "name": "stdout",
     "output_type": "stream",
     "text": [
      "Done\n"
     ]
    }
   ],
   "source": [
    "import random\n",
    "\n",
    "# 출력파일 준비\n",
    "fp = open('heights10.csv', 'w', encoding='utf-8')\n",
    "fp.write('height, weight\\r') # \\r : 커서를 라인맨앞으로 이동시킨다.\n",
    "\n",
    "# 무작위로 데이터 생성\n",
    "for i in range(100000000):\n",
    "    h = random.randint(150, 200)\n",
    "    w = random.randint(50, 150)\n",
    "    fp.write(\"{0}, {1}\\r\".format(h, w))\n",
    "    \n",
    "fp.close()\n",
    "print('Done')"
   ]
  },
  {
   "cell_type": "code",
   "execution_count": 71,
   "id": "dc99358a",
   "metadata": {},
   "outputs": [
    {
     "data": {
      "text/html": [
       "<div>\n",
       "<style scoped>\n",
       "    .dataframe tbody tr th:only-of-type {\n",
       "        vertical-align: middle;\n",
       "    }\n",
       "\n",
       "    .dataframe tbody tr th {\n",
       "        vertical-align: top;\n",
       "    }\n",
       "\n",
       "    .dataframe thead th {\n",
       "        text-align: right;\n",
       "    }\n",
       "</style>\n",
       "<table border=\"1\" class=\"dataframe\">\n",
       "  <thead>\n",
       "    <tr style=\"text-align: right;\">\n",
       "      <th></th>\n",
       "      <th>height</th>\n",
       "      <th>weight</th>\n",
       "    </tr>\n",
       "  </thead>\n",
       "  <tbody>\n",
       "    <tr>\n",
       "      <th>0</th>\n",
       "      <td>193</td>\n",
       "      <td>102</td>\n",
       "    </tr>\n",
       "    <tr>\n",
       "      <th>1</th>\n",
       "      <td>197</td>\n",
       "      <td>92</td>\n",
       "    </tr>\n",
       "    <tr>\n",
       "      <th>2</th>\n",
       "      <td>152</td>\n",
       "      <td>56</td>\n",
       "    </tr>\n",
       "    <tr>\n",
       "      <th>3</th>\n",
       "      <td>185</td>\n",
       "      <td>117</td>\n",
       "    </tr>\n",
       "    <tr>\n",
       "      <th>4</th>\n",
       "      <td>175</td>\n",
       "      <td>80</td>\n",
       "    </tr>\n",
       "  </tbody>\n",
       "</table>\n",
       "</div>"
      ],
      "text/plain": [
       "   height   weight\n",
       "0     193      102\n",
       "1     197       92\n",
       "2     152       56\n",
       "3     185      117\n",
       "4     175       80"
      ]
     },
     "execution_count": 71,
     "metadata": {},
     "output_type": "execute_result"
    }
   ],
   "source": [
    "df2 = pd.read_csv('heights10.csv')\n",
    "df2.head()"
   ]
  },
  {
   "cell_type": "markdown",
   "id": "9473b8e7",
   "metadata": {},
   "source": [
    "- 미리 작성된 CSV 파일을 호출할 경우"
   ]
  },
  {
   "cell_type": "code",
   "execution_count": 66,
   "id": "3d5176a7",
   "metadata": {},
   "outputs": [
    {
     "data": {
      "text/html": [
       "<div>\n",
       "<style scoped>\n",
       "    .dataframe tbody tr th:only-of-type {\n",
       "        vertical-align: middle;\n",
       "    }\n",
       "\n",
       "    .dataframe tbody tr th {\n",
       "        vertical-align: top;\n",
       "    }\n",
       "\n",
       "    .dataframe thead th {\n",
       "        text-align: right;\n",
       "    }\n",
       "</style>\n",
       "<table border=\"1\" class=\"dataframe\">\n",
       "  <thead>\n",
       "    <tr style=\"text-align: right;\">\n",
       "      <th></th>\n",
       "      <th>height</th>\n",
       "      <th>weight</th>\n",
       "    </tr>\n",
       "  </thead>\n",
       "  <tbody>\n",
       "    <tr>\n",
       "      <th>0</th>\n",
       "      <td>158.9</td>\n",
       "      <td>52.0</td>\n",
       "    </tr>\n",
       "    <tr>\n",
       "      <th>1</th>\n",
       "      <td>173.6</td>\n",
       "      <td>66.9</td>\n",
       "    </tr>\n",
       "    <tr>\n",
       "      <th>2</th>\n",
       "      <td>174.4</td>\n",
       "      <td>66.0</td>\n",
       "    </tr>\n",
       "    <tr>\n",
       "      <th>3</th>\n",
       "      <td>169.2</td>\n",
       "      <td>58.0</td>\n",
       "    </tr>\n",
       "    <tr>\n",
       "      <th>4</th>\n",
       "      <td>154.0</td>\n",
       "      <td>49.3</td>\n",
       "    </tr>\n",
       "  </tbody>\n",
       "</table>\n",
       "</div>"
      ],
      "text/plain": [
       "   height  weight\n",
       "0   158.9    52.0\n",
       "1   173.6    66.9\n",
       "2   174.4    66.0\n",
       "3   169.2    58.0\n",
       "4   154.0    49.3"
      ]
     },
     "execution_count": 66,
     "metadata": {},
     "output_type": "execute_result"
    }
   ],
   "source": [
    "df = pd.read_csv('heights2.csv')\n",
    "df.head()"
   ]
  },
  {
   "cell_type": "code",
   "execution_count": 67,
   "id": "d612c225",
   "metadata": {},
   "outputs": [
    {
     "data": {
      "text/html": [
       "<div>\n",
       "<style scoped>\n",
       "    .dataframe tbody tr th:only-of-type {\n",
       "        vertical-align: middle;\n",
       "    }\n",
       "\n",
       "    .dataframe tbody tr th {\n",
       "        vertical-align: top;\n",
       "    }\n",
       "\n",
       "    .dataframe thead th {\n",
       "        text-align: right;\n",
       "    }\n",
       "</style>\n",
       "<table border=\"1\" class=\"dataframe\">\n",
       "  <thead>\n",
       "    <tr style=\"text-align: right;\">\n",
       "      <th></th>\n",
       "      <th>height</th>\n",
       "      <th>weight</th>\n",
       "    </tr>\n",
       "  </thead>\n",
       "  <tbody>\n",
       "    <tr>\n",
       "      <th>46</th>\n",
       "      <td>167.1</td>\n",
       "      <td>59.8</td>\n",
       "    </tr>\n",
       "    <tr>\n",
       "      <th>47</th>\n",
       "      <td>184.2</td>\n",
       "      <td>76.1</td>\n",
       "    </tr>\n",
       "    <tr>\n",
       "      <th>48</th>\n",
       "      <td>182.6</td>\n",
       "      <td>74.0</td>\n",
       "    </tr>\n",
       "    <tr>\n",
       "      <th>49</th>\n",
       "      <td>176.9</td>\n",
       "      <td>69.9</td>\n",
       "    </tr>\n",
       "    <tr>\n",
       "      <th>50</th>\n",
       "      <td>181.0</td>\n",
       "      <td>73.5</td>\n",
       "    </tr>\n",
       "  </tbody>\n",
       "</table>\n",
       "</div>"
      ],
      "text/plain": [
       "    height  weight\n",
       "46   167.1    59.8\n",
       "47   184.2    76.1\n",
       "48   182.6    74.0\n",
       "49   176.9    69.9\n",
       "50   181.0    73.5"
      ]
     },
     "execution_count": 67,
     "metadata": {},
     "output_type": "execute_result"
    }
   ],
   "source": [
    "df.tail()"
   ]
  },
  {
   "cell_type": "code",
   "execution_count": 68,
   "id": "eb61da22",
   "metadata": {},
   "outputs": [
    {
     "data": {
      "image/png": "[encoded data removed]",
      "text/plain": [
       "<Figure size 432x288 with 1 Axes>"
      ]
     },
     "metadata": {
      "needs_background": "light"
     },
     "output_type": "display_data"
    }
   ],
   "source": [
    "# 데이터 시각화\n",
    "X = df['height']\n",
    "y = df['weight']\n",
    "\n",
    "plt.plot(X, y, 'o')\n",
    "plt.grid()\n",
    "plt.show()"
   ]
  },
  {
   "cell_type": "code",
   "execution_count": 69,
   "id": "bdeb3a13",
   "metadata": {},
   "outputs": [
    {
     "data": {
      "text/plain": [
       "LinearRegression()"
      ]
     },
     "execution_count": 69,
     "metadata": {},
     "output_type": "execute_result"
    }
   ],
   "source": [
    "model = LinearRegression()\n",
    "model.fit(X.values.reshape(-1, 1), y)"
   ]
  },
  {
   "cell_type": "code",
   "execution_count": 70,
   "id": "b006d596",
   "metadata": {},
   "outputs": [
    {
     "data": {
      "text/plain": [
       "array([74.57150777])"
      ]
     },
     "execution_count": 70,
     "metadata": {},
     "output_type": "execute_result"
    }
   ],
   "source": [
    "model.predict([[183]])"
   ]
  },
  {
   "cell_type": "markdown",
   "id": "e788b6b5",
   "metadata": {},
   "source": [
    "- 기울기/절편"
   ]
  },
  {
   "cell_type": "code",
   "execution_count": 72,
   "id": "87371cd4",
   "metadata": {},
   "outputs": [
    {
     "data": {
      "text/plain": [
       "array([0.8996501])"
      ]
     },
     "execution_count": 72,
     "metadata": {},
     "output_type": "execute_result"
    }
   ],
   "source": [
    "model.coef_"
   ]
  },
  {
   "cell_type": "code",
   "execution_count": 73,
   "id": "e2afb1ec",
   "metadata": {},
   "outputs": [
    {
     "data": {
      "text/plain": [
       "-90.06446039185175"
      ]
     },
     "execution_count": 73,
     "metadata": {},
     "output_type": "execute_result"
    }
   ],
   "source": [
    "model.intercept_"
   ]
  },
  {
   "cell_type": "code",
   "execution_count": 74,
   "id": "09ebe227",
   "metadata": {},
   "outputs": [
    {
     "data": {
      "image/png": "[encoded data removed]",
      "text/plain": [
       "<Figure size 432x288 with 1 Axes>"
      ]
     },
     "metadata": {
      "needs_background": "light"
     },
     "output_type": "display_data"
    }
   ],
   "source": [
    "plt.plot(X, y, 'o')\n",
    "plt.plot(X, model.predict(X.values.reshape(-1, 1)))\n",
    "plt.grid()\n",
    "plt.show()"
   ]
  },
  {
   "cell_type": "markdown",
   "id": "b66e43ca",
   "metadata": {},
   "source": [
    "-----------"
   ]
  },
  {
   "cell_type": "markdown",
   "id": "57322bdc",
   "metadata": {},
   "source": [
    "# Keras 용어정리"
   ]
  },
  {
   "cell_type": "code",
   "execution_count": 75,
   "id": "16e35f7b",
   "metadata": {},
   "outputs": [
    {
     "name": "stdout",
     "output_type": "stream",
     "text": [
      "Model: \"sequential\"\n",
      "_________________________________________________________________\n",
      " Layer (type)                Output Shape              Param #   \n",
      "=================================================================\n",
      " dense (Dense)               (None, 1)                 3         \n",
      "                                                                 \n",
      " activation (Activation)     (None, 1)                 0         \n",
      "                                                                 \n",
      "=================================================================\n",
      "Total params: 3\n",
      "Trainable params: 3\n",
      "Non-trainable params: 0\n",
      "_________________________________________________________________\n"
     ]
    },
    {
     "name": "stderr",
     "output_type": "stream",
     "text": [
      "2021-11-27 12:36:55.625165: I tensorflow/core/platform/cpu_feature_guard.cc:151] This TensorFlow binary is optimized with oneAPI Deep Neural Network Library (oneDNN) to use the following CPU instructions in performance-critical operations:  AVX2 FMA\n",
      "To enable them in other operations, rebuild TensorFlow with the appropriate compiler flags.\n"
     ]
    }
   ],
   "source": [
    "from tensorflow.keras.models import Sequential\n",
    "from tensorflow.keras.layers import Dense, Activation\n",
    "\n",
    "# 객체 생성\n",
    "model = Sequential()\n",
    "\n",
    "# 모델에 레이어 1개 추가하고, 그 노드에 입력값은 2개로 사용한다.\n",
    "model.add(Dense(1, input_dim=2))\n",
    "\n",
    "# 모델에 레이어를 추가하고, 시그모이드 활성화 함수를 사용한다.\n",
    "model.add(Activation('sigmoid'))\n",
    "\n",
    "# 모델의 형태와 정보를 출력한다.\n",
    "model.summary()"
   ]
  },
  {
   "attachments": {
    "%E1%84%89%E1%85%B3%E1%84%8F%E1%85%B3%E1%84%85%E1%85%B5%E1%86%AB%E1%84%89%E1%85%A3%E1%86%BA%202021-11-27%20%E1%84%8B%E1%85%A9%E1%84%92%E1%85%AE%2012.37.49.png": {
     "image/png": "[encoded data removed]"
    }
   },
   "cell_type": "markdown",
   "id": "70649ff4",
   "metadata": {},
   "source": [
    "![%E1%84%89%E1%85%B3%E1%84%8F%E1%85%B3%E1%84%85%E1%85%B5%E1%86%AB%E1%84%89%E1%85%A3%E1%86%BA%202021-11-27%20%E1%84%8B%E1%85%A9%E1%84%92%E1%85%AE%2012.37.49.png](attachment:%E1%84%89%E1%85%B3%E1%84%8F%E1%85%B3%E1%84%85%E1%85%B5%E1%86%AB%E1%84%89%E1%85%A3%E1%86%BA%202021-11-27%20%E1%84%8B%E1%85%A9%E1%84%92%E1%85%AE%2012.37.49.png)"
   ]
  },
  {
   "cell_type": "markdown",
   "id": "a5ade321",
   "metadata": {},
   "source": [
    "- 동그라미를 뉴런이라 한다. (또는 노드라고 한다.)\n",
    "- x1 에 입력값이 두개가 들어온다.\n",
    "- w1 : 가중치\n",
    "- Dense는 동그라미 하나이다."
   ]
  },
  {
   "cell_type": "markdown",
   "id": "3e383e7e",
   "metadata": {},
   "source": [
    "# Dense\n",
    "\n",
    "- Dense 클래스를 이용하여 레이어의 노드를 만들며, Sequentioal 모델에 추가하면 다른 노드들과 연결된다."
   ]
  },
  {
   "cell_type": "code",
   "execution_count": null,
   "id": "f354eebe",
   "metadata": {},
   "outputs": [],
   "source": [
    "# 노드를 2개를 만들고 각각 노드에 입력값 2개를 넣는다.\n",
    "model.add(Dense(2, input_dim=2)) "
   ]
  },
  {
   "cell_type": "markdown",
   "id": "f17116e2",
   "metadata": {},
   "source": [
    "-----------------------"
   ]
  },
  {
   "cell_type": "markdown",
   "id": "7f114673",
   "metadata": {},
   "source": [
    "# 실습 : 단일 입력 로지스틱회귀 모델"
   ]
  },
  {
   "cell_type": "code",
   "execution_count": 76,
   "id": "71240d52",
   "metadata": {},
   "outputs": [],
   "source": [
    "import matplotlib.pyplot as plt\n",
    "from tensorflow.keras.models import Sequential\n",
    "from tensorflow.keras.layers import Dense, Activation\n",
    "from tensorflow.keras import optimizers\n",
    "import numpy as np"
   ]
  },
  {
   "cell_type": "code",
   "execution_count": 77,
   "id": "05731563",
   "metadata": {},
   "outputs": [],
   "source": [
    "X = np.array([-50, -40, -30, -20, -10, -5, 0, 5, 10, 20, 30, 40, 50])\n",
    "y = np.array([0, 0, 0, 0, 0, 0, 0, 0, 1, 1, 1, 1, 1])"
   ]
  },
  {
   "cell_type": "code",
   "execution_count": 78,
   "id": "c7153673",
   "metadata": {},
   "outputs": [],
   "source": [
    "model = Sequential()\n",
    "model.add(Dense(1, input_dim=1, activation='sigmoid'))"
   ]
  },
  {
   "cell_type": "code",
   "execution_count": 79,
   "id": "f7e41f7b",
   "metadata": {},
   "outputs": [
    {
     "name": "stderr",
     "output_type": "stream",
     "text": [
      "/Library/Frameworks/Python.framework/Versions/3.8/lib/python3.8/site-packages/keras/optimizer_v2/gradient_descent.py:102: UserWarning: The `lr` argument is deprecated, use `learning_rate` instead.\n",
      "  super(SGD, self).__init__(name, **kwargs)\n"
     ]
    }
   ],
   "source": [
    "# 경사하강법과 손실함수는 이진 크로스 엔트로피를 사용한다.\n",
    "\n",
    "sgd = optimizers.SGD(lr=0.01)\n",
    "model.compile(optimizer=sgd, loss='binary_crossentropy',\n",
    "             metrics=['binary_accuracy'])"
   ]
  },
  {
   "cell_type": "code",
   "execution_count": 80,
   "id": "e9e4494d",
   "metadata": {},
   "outputs": [
    {
     "name": "stdout",
     "output_type": "stream",
     "text": [
      "Epoch 1/200\n",
      "13/13 [==============================] - 0s 1ms/step - loss: 2.3475 - binary_accuracy: 0.7692 \n",
      "Epoch 2/200\n",
      "13/13 [==============================] - 0s 1ms/step - loss: 0.2043 - binary_accuracy: 0.9231\n",
      "Epoch 3/200\n",
      "13/13 [==============================] - 0s 1ms/step - loss: 0.2020 - binary_accuracy: 0.9231\n",
      "Epoch 4/200\n",
      "13/13 [==============================] - 0s 1ms/step - loss: 0.2000 - binary_accuracy: 0.9231\n",
      "Epoch 5/200\n",
      "13/13 [==============================] - 0s 1ms/step - loss: 0.1982 - binary_accuracy: 0.9231\n",
      "Epoch 6/200\n",
      "13/13 [==============================] - 0s 1ms/step - loss: 0.1965 - binary_accuracy: 0.9231\n",
      "Epoch 7/200\n",
      "13/13 [==============================] - 0s 1ms/step - loss: 0.1949 - binary_accuracy: 0.9231\n",
      "Epoch 8/200\n",
      "13/13 [==============================] - 0s 1ms/step - loss: 0.1934 - binary_accuracy: 0.9231\n",
      "Epoch 9/200\n",
      "13/13 [==============================] - 0s 1ms/step - loss: 0.1918 - binary_accuracy: 0.9231\n",
      "Epoch 10/200\n",
      "13/13 [==============================] - 0s 1ms/step - loss: 0.1903 - binary_accuracy: 0.9231\n",
      "Epoch 11/200\n",
      "13/13 [==============================] - 0s 1ms/step - loss: 0.1888 - binary_accuracy: 0.9231\n",
      "Epoch 12/200\n",
      "13/13 [==============================] - 0s 2ms/step - loss: 0.1874 - binary_accuracy: 0.9231\n",
      "Epoch 13/200\n",
      "13/13 [==============================] - 0s 1ms/step - loss: 0.1860 - binary_accuracy: 0.9231\n",
      "Epoch 14/200\n",
      "13/13 [==============================] - 0s 1ms/step - loss: 0.1846 - binary_accuracy: 0.9231\n",
      "Epoch 15/200\n",
      "13/13 [==============================] - 0s 1ms/step - loss: 0.1832 - binary_accuracy: 0.9231\n",
      "Epoch 16/200\n",
      "13/13 [==============================] - 0s 1ms/step - loss: 0.1818 - binary_accuracy: 0.9231\n",
      "Epoch 17/200\n",
      "13/13 [==============================] - 0s 1ms/step - loss: 0.1805 - binary_accuracy: 0.9231\n",
      "Epoch 18/200\n",
      "13/13 [==============================] - 0s 1ms/step - loss: 0.1792 - binary_accuracy: 0.9231\n",
      "Epoch 19/200\n",
      "13/13 [==============================] - 0s 1ms/step - loss: 0.1779 - binary_accuracy: 0.9231\n",
      "Epoch 20/200\n",
      "13/13 [==============================] - 0s 1ms/step - loss: 0.1766 - binary_accuracy: 0.9231\n",
      "Epoch 21/200\n",
      "13/13 [==============================] - 0s 1ms/step - loss: 0.1753 - binary_accuracy: 0.9231\n",
      "Epoch 22/200\n",
      "13/13 [==============================] - 0s 2ms/step - loss: 0.1741 - binary_accuracy: 0.9231\n",
      "Epoch 23/200\n",
      "13/13 [==============================] - 0s 1ms/step - loss: 0.1729 - binary_accuracy: 0.9231\n",
      "Epoch 24/200\n",
      "13/13 [==============================] - 0s 1ms/step - loss: 0.1717 - binary_accuracy: 0.9231\n",
      "Epoch 25/200\n",
      "13/13 [==============================] - 0s 1ms/step - loss: 0.1705 - binary_accuracy: 0.9231\n",
      "Epoch 26/200\n",
      "13/13 [==============================] - 0s 1ms/step - loss: 0.1693 - binary_accuracy: 0.9231\n",
      "Epoch 27/200\n",
      "13/13 [==============================] - 0s 1ms/step - loss: 0.1682 - binary_accuracy: 0.9231\n",
      "Epoch 28/200\n",
      "13/13 [==============================] - 0s 1ms/step - loss: 0.1671 - binary_accuracy: 0.9231\n",
      "Epoch 29/200\n",
      "13/13 [==============================] - 0s 1ms/step - loss: 0.1660 - binary_accuracy: 0.9231\n",
      "Epoch 30/200\n",
      "13/13 [==============================] - 0s 1ms/step - loss: 0.1649 - binary_accuracy: 0.9231\n",
      "Epoch 31/200\n",
      "13/13 [==============================] - 0s 2ms/step - loss: 0.1638 - binary_accuracy: 0.9231\n",
      "Epoch 32/200\n",
      "13/13 [==============================] - 0s 2ms/step - loss: 0.1628 - binary_accuracy: 0.9231\n",
      "Epoch 33/200\n",
      "13/13 [==============================] - 0s 1ms/step - loss: 0.1617 - binary_accuracy: 0.9231\n",
      "Epoch 34/200\n",
      "13/13 [==============================] - 0s 1ms/step - loss: 0.1607 - binary_accuracy: 0.9231\n",
      "Epoch 35/200\n",
      "13/13 [==============================] - 0s 1ms/step - loss: 0.1597 - binary_accuracy: 0.9231\n",
      "Epoch 36/200\n",
      "13/13 [==============================] - 0s 1ms/step - loss: 0.1587 - binary_accuracy: 0.9231\n",
      "Epoch 37/200\n",
      "13/13 [==============================] - 0s 1ms/step - loss: 0.1577 - binary_accuracy: 0.9231\n",
      "Epoch 38/200\n",
      "13/13 [==============================] - 0s 1ms/step - loss: 0.1567 - binary_accuracy: 0.9231\n",
      "Epoch 39/200\n",
      "13/13 [==============================] - 0s 1ms/step - loss: 0.1558 - binary_accuracy: 0.9231\n",
      "Epoch 40/200\n",
      "13/13 [==============================] - 0s 2ms/step - loss: 0.1549 - binary_accuracy: 0.9231\n",
      "Epoch 41/200\n",
      "13/13 [==============================] - 0s 1ms/step - loss: 0.1539 - binary_accuracy: 0.9231\n",
      "Epoch 42/200\n",
      "13/13 [==============================] - 0s 1ms/step - loss: 0.1530 - binary_accuracy: 0.9231\n",
      "Epoch 43/200\n",
      "13/13 [==============================] - 0s 1ms/step - loss: 0.1521 - binary_accuracy: 0.9231\n",
      "Epoch 44/200\n",
      "13/13 [==============================] - 0s 2ms/step - loss: 0.1513 - binary_accuracy: 0.9231\n",
      "Epoch 45/200\n",
      "13/13 [==============================] - 0s 1ms/step - loss: 0.1504 - binary_accuracy: 0.9231\n",
      "Epoch 46/200\n",
      "13/13 [==============================] - 0s 1ms/step - loss: 0.1495 - binary_accuracy: 0.9231\n",
      "Epoch 47/200\n",
      "13/13 [==============================] - 0s 1ms/step - loss: 0.1487 - binary_accuracy: 0.9231\n",
      "Epoch 48/200\n",
      "13/13 [==============================] - 0s 1ms/step - loss: 0.1479 - binary_accuracy: 0.9231\n",
      "Epoch 49/200\n",
      "13/13 [==============================] - 0s 1ms/step - loss: 0.1470 - binary_accuracy: 0.9231\n",
      "Epoch 50/200\n",
      "13/13 [==============================] - 0s 1ms/step - loss: 0.1462 - binary_accuracy: 0.9231\n",
      "Epoch 51/200\n",
      "13/13 [==============================] - 0s 1ms/step - loss: 0.1454 - binary_accuracy: 0.9231\n",
      "Epoch 52/200\n",
      "13/13 [==============================] - 0s 1ms/step - loss: 0.1446 - binary_accuracy: 0.9231\n",
      "Epoch 53/200\n",
      "13/13 [==============================] - 0s 1ms/step - loss: 0.1439 - binary_accuracy: 0.9231\n",
      "Epoch 54/200\n",
      "13/13 [==============================] - 0s 1ms/step - loss: 0.1431 - binary_accuracy: 0.9231\n",
      "Epoch 55/200\n",
      "13/13 [==============================] - 0s 1ms/step - loss: 0.1423 - binary_accuracy: 0.9231\n",
      "Epoch 56/200\n",
      "13/13 [==============================] - 0s 1ms/step - loss: 0.1416 - binary_accuracy: 0.9231\n",
      "Epoch 57/200\n",
      "13/13 [==============================] - 0s 1ms/step - loss: 0.1409 - binary_accuracy: 0.9231\n",
      "Epoch 58/200\n",
      "13/13 [==============================] - 0s 1ms/step - loss: 0.1401 - binary_accuracy: 0.9231\n",
      "Epoch 59/200\n",
      "13/13 [==============================] - 0s 1ms/step - loss: 0.1394 - binary_accuracy: 0.9231\n",
      "Epoch 60/200\n",
      "13/13 [==============================] - 0s 2ms/step - loss: 0.1387 - binary_accuracy: 0.9231\n",
      "Epoch 61/200\n",
      "13/13 [==============================] - 0s 1ms/step - loss: 0.1380 - binary_accuracy: 0.9231\n",
      "Epoch 62/200\n",
      "13/13 [==============================] - 0s 1ms/step - loss: 0.1373 - binary_accuracy: 0.9231\n",
      "Epoch 63/200\n",
      "13/13 [==============================] - 0s 1ms/step - loss: 0.1367 - binary_accuracy: 0.9231\n",
      "Epoch 64/200\n",
      "13/13 [==============================] - 0s 1ms/step - loss: 0.1360 - binary_accuracy: 0.9231\n",
      "Epoch 65/200\n",
      "13/13 [==============================] - 0s 1ms/step - loss: 0.1353 - binary_accuracy: 0.9231\n",
      "Epoch 66/200\n",
      "13/13 [==============================] - 0s 1ms/step - loss: 0.1347 - binary_accuracy: 0.9231\n",
      "Epoch 67/200\n",
      "13/13 [==============================] - 0s 1ms/step - loss: 0.1340 - binary_accuracy: 0.9231\n",
      "Epoch 68/200\n",
      "13/13 [==============================] - 0s 1ms/step - loss: 0.1334 - binary_accuracy: 0.9231\n",
      "Epoch 69/200\n",
      "13/13 [==============================] - 0s 1ms/step - loss: 0.1328 - binary_accuracy: 0.9231\n",
      "Epoch 70/200\n",
      "13/13 [==============================] - 0s 1ms/step - loss: 0.1322 - binary_accuracy: 0.9231\n",
      "Epoch 71/200\n",
      "13/13 [==============================] - 0s 1ms/step - loss: 0.1315 - binary_accuracy: 0.9231\n",
      "Epoch 72/200\n",
      "13/13 [==============================] - 0s 1ms/step - loss: 0.1309 - binary_accuracy: 0.9231\n",
      "Epoch 73/200\n",
      "13/13 [==============================] - 0s 1ms/step - loss: 0.1303 - binary_accuracy: 0.9231\n",
      "Epoch 74/200\n",
      "13/13 [==============================] - 0s 1ms/step - loss: 0.1298 - binary_accuracy: 0.9231\n",
      "Epoch 75/200\n",
      "13/13 [==============================] - 0s 1ms/step - loss: 0.1292 - binary_accuracy: 0.9231\n",
      "Epoch 76/200\n",
      "13/13 [==============================] - 0s 1ms/step - loss: 0.1286 - binary_accuracy: 0.9231\n",
      "Epoch 77/200\n"
     ]
    },
    {
     "name": "stdout",
     "output_type": "stream",
     "text": [
      "13/13 [==============================] - 0s 1ms/step - loss: 0.1280 - binary_accuracy: 0.9231\n",
      "Epoch 78/200\n",
      "13/13 [==============================] - 0s 1ms/step - loss: 0.1275 - binary_accuracy: 0.9231\n",
      "Epoch 79/200\n",
      "13/13 [==============================] - 0s 1ms/step - loss: 0.1269 - binary_accuracy: 0.9231\n",
      "Epoch 80/200\n",
      "13/13 [==============================] - 0s 975us/step - loss: 0.1264 - binary_accuracy: 0.9231\n",
      "Epoch 81/200\n",
      "13/13 [==============================] - 0s 1ms/step - loss: 0.1258 - binary_accuracy: 0.9231\n",
      "Epoch 82/200\n",
      "13/13 [==============================] - 0s 1ms/step - loss: 0.1253 - binary_accuracy: 0.9231\n",
      "Epoch 83/200\n",
      "13/13 [==============================] - 0s 1ms/step - loss: 0.1248 - binary_accuracy: 0.9231\n",
      "Epoch 84/200\n",
      "13/13 [==============================] - 0s 1ms/step - loss: 0.1242 - binary_accuracy: 0.9231\n",
      "Epoch 85/200\n",
      "13/13 [==============================] - 0s 1ms/step - loss: 0.1237 - binary_accuracy: 0.9231\n",
      "Epoch 86/200\n",
      "13/13 [==============================] - 0s 1ms/step - loss: 0.1232 - binary_accuracy: 0.9231\n",
      "Epoch 87/200\n",
      "13/13 [==============================] - 0s 1ms/step - loss: 0.1227 - binary_accuracy: 0.9231\n",
      "Epoch 88/200\n",
      "13/13 [==============================] - 0s 1ms/step - loss: 0.1222 - binary_accuracy: 0.9231\n",
      "Epoch 89/200\n",
      "13/13 [==============================] - 0s 1ms/step - loss: 0.1217 - binary_accuracy: 0.9231\n",
      "Epoch 90/200\n",
      "13/13 [==============================] - 0s 1ms/step - loss: 0.1212 - binary_accuracy: 0.9231\n",
      "Epoch 91/200\n",
      "13/13 [==============================] - 0s 1ms/step - loss: 0.1208 - binary_accuracy: 0.9231\n",
      "Epoch 92/200\n",
      "13/13 [==============================] - 0s 1ms/step - loss: 0.1203 - binary_accuracy: 0.9231\n",
      "Epoch 93/200\n",
      "13/13 [==============================] - 0s 1ms/step - loss: 0.1198 - binary_accuracy: 0.9231\n",
      "Epoch 94/200\n",
      "13/13 [==============================] - 0s 1ms/step - loss: 0.1193 - binary_accuracy: 0.9231\n",
      "Epoch 95/200\n",
      "13/13 [==============================] - 0s 1ms/step - loss: 0.1189 - binary_accuracy: 0.9231\n",
      "Epoch 96/200\n",
      "13/13 [==============================] - 0s 1ms/step - loss: 0.1184 - binary_accuracy: 0.9231\n",
      "Epoch 97/200\n",
      "13/13 [==============================] - 0s 1ms/step - loss: 0.1180 - binary_accuracy: 0.9231\n",
      "Epoch 98/200\n",
      "13/13 [==============================] - 0s 1ms/step - loss: 0.1175 - binary_accuracy: 0.9231\n",
      "Epoch 99/200\n",
      "13/13 [==============================] - 0s 1ms/step - loss: 0.1171 - binary_accuracy: 0.9231\n",
      "Epoch 100/200\n",
      "13/13 [==============================] - 0s 1ms/step - loss: 0.1167 - binary_accuracy: 0.9231\n",
      "Epoch 101/200\n",
      "13/13 [==============================] - 0s 1ms/step - loss: 0.1162 - binary_accuracy: 0.9231\n",
      "Epoch 102/200\n",
      "13/13 [==============================] - 0s 1ms/step - loss: 0.1158 - binary_accuracy: 0.9231\n",
      "Epoch 103/200\n",
      "13/13 [==============================] - 0s 1ms/step - loss: 0.1154 - binary_accuracy: 0.9231\n",
      "Epoch 104/200\n",
      "13/13 [==============================] - 0s 1ms/step - loss: 0.1150 - binary_accuracy: 0.9231\n",
      "Epoch 105/200\n",
      "13/13 [==============================] - 0s 1ms/step - loss: 0.1145 - binary_accuracy: 0.9231\n",
      "Epoch 106/200\n",
      "13/13 [==============================] - 0s 1ms/step - loss: 0.1141 - binary_accuracy: 0.9231\n",
      "Epoch 107/200\n",
      "13/13 [==============================] - 0s 1ms/step - loss: 0.1137 - binary_accuracy: 0.9231\n",
      "Epoch 108/200\n",
      "13/13 [==============================] - 0s 1ms/step - loss: 0.1133 - binary_accuracy: 0.9231\n",
      "Epoch 109/200\n",
      "13/13 [==============================] - 0s 1ms/step - loss: 0.1129 - binary_accuracy: 0.9231\n",
      "Epoch 110/200\n",
      "13/13 [==============================] - 0s 1ms/step - loss: 0.1125 - binary_accuracy: 0.9231\n",
      "Epoch 111/200\n",
      "13/13 [==============================] - 0s 1ms/step - loss: 0.1121 - binary_accuracy: 0.9231\n",
      "Epoch 112/200\n",
      "13/13 [==============================] - 0s 1ms/step - loss: 0.1118 - binary_accuracy: 0.9231\n",
      "Epoch 113/200\n",
      "13/13 [==============================] - 0s 1ms/step - loss: 0.1114 - binary_accuracy: 0.9231\n",
      "Epoch 114/200\n",
      "13/13 [==============================] - 0s 1ms/step - loss: 0.1110 - binary_accuracy: 0.9231\n",
      "Epoch 115/200\n",
      "13/13 [==============================] - 0s 1ms/step - loss: 0.1106 - binary_accuracy: 0.9231\n",
      "Epoch 116/200\n",
      "13/13 [==============================] - 0s 1ms/step - loss: 0.1103 - binary_accuracy: 0.9231\n",
      "Epoch 117/200\n",
      "13/13 [==============================] - 0s 1ms/step - loss: 0.1099 - binary_accuracy: 0.9231\n",
      "Epoch 118/200\n",
      "13/13 [==============================] - 0s 1ms/step - loss: 0.1095 - binary_accuracy: 0.9231\n",
      "Epoch 119/200\n",
      "13/13 [==============================] - 0s 1ms/step - loss: 0.1092 - binary_accuracy: 0.9231\n",
      "Epoch 120/200\n",
      "13/13 [==============================] - 0s 1ms/step - loss: 0.1088 - binary_accuracy: 0.9231\n",
      "Epoch 121/200\n",
      "13/13 [==============================] - 0s 1ms/step - loss: 0.1085 - binary_accuracy: 0.9231\n",
      "Epoch 122/200\n",
      "13/13 [==============================] - 0s 1ms/step - loss: 0.1081 - binary_accuracy: 0.9231\n",
      "Epoch 123/200\n",
      "13/13 [==============================] - 0s 1ms/step - loss: 0.1078 - binary_accuracy: 0.9231\n",
      "Epoch 124/200\n",
      "13/13 [==============================] - 0s 1ms/step - loss: 0.1074 - binary_accuracy: 0.9231\n",
      "Epoch 125/200\n",
      "13/13 [==============================] - 0s 1ms/step - loss: 0.1071 - binary_accuracy: 0.9231\n",
      "Epoch 126/200\n",
      "13/13 [==============================] - 0s 2ms/step - loss: 0.1067 - binary_accuracy: 0.9231\n",
      "Epoch 127/200\n",
      "13/13 [==============================] - 0s 1ms/step - loss: 0.1064 - binary_accuracy: 0.9231\n",
      "Epoch 128/200\n",
      "13/13 [==============================] - 0s 1ms/step - loss: 0.1061 - binary_accuracy: 0.9231\n",
      "Epoch 129/200\n",
      "13/13 [==============================] - 0s 1ms/step - loss: 0.1057 - binary_accuracy: 0.9231\n",
      "Epoch 130/200\n",
      "13/13 [==============================] - 0s 1ms/step - loss: 0.1054 - binary_accuracy: 0.9231\n",
      "Epoch 131/200\n",
      "13/13 [==============================] - 0s 1ms/step - loss: 0.1051 - binary_accuracy: 0.9231\n",
      "Epoch 132/200\n",
      "13/13 [==============================] - 0s 1ms/step - loss: 0.1048 - binary_accuracy: 0.9231\n",
      "Epoch 133/200\n",
      "13/13 [==============================] - 0s 1ms/step - loss: 0.1045 - binary_accuracy: 0.9231\n",
      "Epoch 134/200\n",
      "13/13 [==============================] - 0s 1ms/step - loss: 0.1041 - binary_accuracy: 0.9231\n",
      "Epoch 135/200\n",
      "13/13 [==============================] - 0s 1ms/step - loss: 0.1038 - binary_accuracy: 0.9231\n",
      "Epoch 136/200\n",
      "13/13 [==============================] - 0s 1ms/step - loss: 0.1035 - binary_accuracy: 0.9231\n",
      "Epoch 137/200\n",
      "13/13 [==============================] - 0s 1ms/step - loss: 0.1032 - binary_accuracy: 0.9231\n",
      "Epoch 138/200\n",
      "13/13 [==============================] - 0s 1ms/step - loss: 0.1029 - binary_accuracy: 0.9231\n",
      "Epoch 139/200\n",
      "13/13 [==============================] - 0s 1ms/step - loss: 0.1026 - binary_accuracy: 0.9231\n",
      "Epoch 140/200\n",
      "13/13 [==============================] - 0s 1ms/step - loss: 0.1023 - binary_accuracy: 0.9231\n",
      "Epoch 141/200\n",
      "13/13 [==============================] - 0s 1ms/step - loss: 0.1020 - binary_accuracy: 0.9231\n",
      "Epoch 142/200\n",
      "13/13 [==============================] - 0s 1ms/step - loss: 0.1017 - binary_accuracy: 0.9231\n",
      "Epoch 143/200\n",
      "13/13 [==============================] - 0s 1ms/step - loss: 0.1014 - binary_accuracy: 0.9231\n",
      "Epoch 144/200\n",
      "13/13 [==============================] - 0s 1ms/step - loss: 0.1012 - binary_accuracy: 0.9231\n",
      "Epoch 145/200\n",
      "13/13 [==============================] - 0s 1ms/step - loss: 0.1009 - binary_accuracy: 0.9231\n",
      "Epoch 146/200\n",
      "13/13 [==============================] - 0s 1ms/step - loss: 0.1006 - binary_accuracy: 0.9231\n",
      "Epoch 147/200\n",
      "13/13 [==============================] - 0s 996us/step - loss: 0.1003 - binary_accuracy: 0.9231\n",
      "Epoch 148/200\n",
      "13/13 [==============================] - 0s 1ms/step - loss: 0.1000 - binary_accuracy: 0.9231\n",
      "Epoch 149/200\n",
      "13/13 [==============================] - 0s 1ms/step - loss: 0.0998 - binary_accuracy: 0.9231\n",
      "Epoch 150/200\n",
      "13/13 [==============================] - 0s 1ms/step - loss: 0.0995 - binary_accuracy: 0.9231\n",
      "Epoch 151/200\n",
      "13/13 [==============================] - 0s 1ms/step - loss: 0.0992 - binary_accuracy: 0.9231\n",
      "Epoch 152/200\n",
      "13/13 [==============================] - 0s 1ms/step - loss: 0.0989 - binary_accuracy: 0.9231\n",
      "Epoch 153/200\n"
     ]
    },
    {
     "name": "stdout",
     "output_type": "stream",
     "text": [
      "13/13 [==============================] - 0s 1ms/step - loss: 0.0987 - binary_accuracy: 0.9231\n",
      "Epoch 154/200\n",
      "13/13 [==============================] - 0s 1ms/step - loss: 0.0984 - binary_accuracy: 0.9231\n",
      "Epoch 155/200\n",
      "13/13 [==============================] - 0s 1ms/step - loss: 0.0981 - binary_accuracy: 0.9231\n",
      "Epoch 156/200\n",
      "13/13 [==============================] - 0s 1ms/step - loss: 0.0979 - binary_accuracy: 0.9231\n",
      "Epoch 157/200\n",
      "13/13 [==============================] - 0s 1ms/step - loss: 0.0976 - binary_accuracy: 0.9231\n",
      "Epoch 158/200\n",
      "13/13 [==============================] - 0s 1ms/step - loss: 0.0974 - binary_accuracy: 0.9231\n",
      "Epoch 159/200\n",
      "13/13 [==============================] - 0s 1ms/step - loss: 0.0971 - binary_accuracy: 0.9231\n",
      "Epoch 160/200\n",
      "13/13 [==============================] - 0s 1ms/step - loss: 0.0969 - binary_accuracy: 0.9231\n",
      "Epoch 161/200\n",
      "13/13 [==============================] - 0s 1ms/step - loss: 0.0966 - binary_accuracy: 0.9231\n",
      "Epoch 162/200\n",
      "13/13 [==============================] - 0s 1ms/step - loss: 0.0964 - binary_accuracy: 0.9231\n",
      "Epoch 163/200\n",
      "13/13 [==============================] - 0s 986us/step - loss: 0.0961 - binary_accuracy: 0.9231\n",
      "Epoch 164/200\n",
      "13/13 [==============================] - 0s 968us/step - loss: 0.0959 - binary_accuracy: 0.9231\n",
      "Epoch 165/200\n",
      "13/13 [==============================] - 0s 1ms/step - loss: 0.0956 - binary_accuracy: 0.9231\n",
      "Epoch 166/200\n",
      "13/13 [==============================] - 0s 1ms/step - loss: 0.0954 - binary_accuracy: 0.9231\n",
      "Epoch 167/200\n",
      "13/13 [==============================] - 0s 1ms/step - loss: 0.0951 - binary_accuracy: 0.9231\n",
      "Epoch 168/200\n",
      "13/13 [==============================] - 0s 1ms/step - loss: 0.0949 - binary_accuracy: 0.9231\n",
      "Epoch 169/200\n",
      "13/13 [==============================] - 0s 1ms/step - loss: 0.0947 - binary_accuracy: 0.9231\n",
      "Epoch 170/200\n",
      "13/13 [==============================] - 0s 1ms/step - loss: 0.0944 - binary_accuracy: 0.9231\n",
      "Epoch 171/200\n",
      "13/13 [==============================] - 0s 1ms/step - loss: 0.0942 - binary_accuracy: 0.9231\n",
      "Epoch 172/200\n",
      "13/13 [==============================] - 0s 1ms/step - loss: 0.0940 - binary_accuracy: 0.9231\n",
      "Epoch 173/200\n",
      "13/13 [==============================] - 0s 1ms/step - loss: 0.0937 - binary_accuracy: 0.9231\n",
      "Epoch 174/200\n",
      "13/13 [==============================] - 0s 1ms/step - loss: 0.0935 - binary_accuracy: 0.9231\n",
      "Epoch 175/200\n",
      "13/13 [==============================] - 0s 1ms/step - loss: 0.0933 - binary_accuracy: 0.9231\n",
      "Epoch 176/200\n",
      "13/13 [==============================] - 0s 1ms/step - loss: 0.0931 - binary_accuracy: 0.9231\n",
      "Epoch 177/200\n",
      "13/13 [==============================] - 0s 1ms/step - loss: 0.0928 - binary_accuracy: 0.9231\n",
      "Epoch 178/200\n",
      "13/13 [==============================] - 0s 1ms/step - loss: 0.0926 - binary_accuracy: 0.9231\n",
      "Epoch 179/200\n",
      "13/13 [==============================] - 0s 1ms/step - loss: 0.0924 - binary_accuracy: 0.9231\n",
      "Epoch 180/200\n",
      "13/13 [==============================] - 0s 1ms/step - loss: 0.0922 - binary_accuracy: 0.9231\n",
      "Epoch 181/200\n",
      "13/13 [==============================] - 0s 1ms/step - loss: 0.0920 - binary_accuracy: 0.9231\n",
      "Epoch 182/200\n",
      "13/13 [==============================] - 0s 1ms/step - loss: 0.0918 - binary_accuracy: 0.9231\n",
      "Epoch 183/200\n",
      "13/13 [==============================] - 0s 1ms/step - loss: 0.0915 - binary_accuracy: 0.9231\n",
      "Epoch 184/200\n",
      "13/13 [==============================] - 0s 1ms/step - loss: 0.0913 - binary_accuracy: 0.9231\n",
      "Epoch 185/200\n",
      "13/13 [==============================] - 0s 1ms/step - loss: 0.0911 - binary_accuracy: 0.9231\n",
      "Epoch 186/200\n",
      "13/13 [==============================] - 0s 1ms/step - loss: 0.0909 - binary_accuracy: 0.9231\n",
      "Epoch 187/200\n",
      "13/13 [==============================] - 0s 1ms/step - loss: 0.0907 - binary_accuracy: 0.9231\n",
      "Epoch 188/200\n",
      "13/13 [==============================] - 0s 1ms/step - loss: 0.0905 - binary_accuracy: 0.9231\n",
      "Epoch 189/200\n",
      "13/13 [==============================] - 0s 1ms/step - loss: 0.0903 - binary_accuracy: 0.9231\n",
      "Epoch 190/200\n",
      "13/13 [==============================] - 0s 1ms/step - loss: 0.0901 - binary_accuracy: 0.9231\n",
      "Epoch 191/200\n",
      "13/13 [==============================] - 0s 1ms/step - loss: 0.0899 - binary_accuracy: 0.9231\n",
      "Epoch 192/200\n",
      "13/13 [==============================] - 0s 1ms/step - loss: 0.0897 - binary_accuracy: 1.0000\n",
      "Epoch 193/200\n",
      "13/13 [==============================] - 0s 1ms/step - loss: 0.0895 - binary_accuracy: 1.0000\n",
      "Epoch 194/200\n",
      "13/13 [==============================] - 0s 1ms/step - loss: 0.0893 - binary_accuracy: 1.0000\n",
      "Epoch 195/200\n",
      "13/13 [==============================] - 0s 1ms/step - loss: 0.0891 - binary_accuracy: 1.0000\n",
      "Epoch 196/200\n",
      "13/13 [==============================] - 0s 1ms/step - loss: 0.0889 - binary_accuracy: 1.0000\n",
      "Epoch 197/200\n",
      "13/13 [==============================] - 0s 1ms/step - loss: 0.0887 - binary_accuracy: 1.0000\n",
      "Epoch 198/200\n",
      "13/13 [==============================] - 0s 1ms/step - loss: 0.0885 - binary_accuracy: 1.0000\n",
      "Epoch 199/200\n",
      "13/13 [==============================] - 0s 1ms/step - loss: 0.0883 - binary_accuracy: 1.0000\n",
      "Epoch 200/200\n",
      "13/13 [==============================] - 0s 1ms/step - loss: 0.0881 - binary_accuracy: 1.0000\n"
     ]
    },
    {
     "data": {
      "text/plain": [
       "<keras.callbacks.History at 0x7f9888cc3bb0>"
      ]
     },
     "execution_count": 80,
     "metadata": {},
     "output_type": "execute_result"
    }
   ],
   "source": [
    "# 모델링\n",
    "# 임의의 숫자를 X에 대입, 숫자가 10 이상인 경우에는 1, 미만이면 0을 부여한 데이터를 y라고 할 때\n",
    "# batch_size=1 은 1개의 x값에 대한 1개의 y값을 예측한다.\n",
    "# epochs=200 은 전체 데이터를 200번 반복 학습한다.\n",
    "# shuffle=False 는 항상 같은 데이터를 유지한다.\n",
    "\n",
    "model.fit(X, y, batch_size=1, epochs=200, shuffle=False)"
   ]
  },
  {
   "cell_type": "code",
   "execution_count": 81,
   "id": "200c8781",
   "metadata": {},
   "outputs": [
    {
     "data": {
      "text/plain": [
       "[<matplotlib.lines.Line2D at 0x7f9888b93490>,\n",
       " <matplotlib.lines.Line2D at 0x7f9888b934c0>]"
      ]
     },
     "execution_count": 81,
     "metadata": {},
     "output_type": "execute_result"
    },
    {
     "data": {
      "image/png": "[encoded data removed]",
      "text/plain": [
       "<Figure size 432x288 with 1 Axes>"
      ]
     },
     "metadata": {
      "needs_background": "light"
     },
     "output_type": "display_data"
    }
   ],
   "source": [
    "plt.plot(X, model.predict(X), 'r', X, y, 'k.')"
   ]
  },
  {
   "cell_type": "markdown",
   "id": "0248deb8",
   "metadata": {},
   "source": [
    "x 값이 5와 10사이일 때 y 값이 0.5를 넘기 시작한다.\n",
    "\n",
    "X == 5, y < 0.5, X > 5 , y > 0.5"
   ]
  },
  {
   "cell_type": "markdown",
   "id": "ff9f94cc",
   "metadata": {},
   "source": [
    "- x값이 5보다 작을 값일 때 y값 출력"
   ]
  },
  {
   "cell_type": "code",
   "execution_count": 82,
   "id": "4cdc51cb",
   "metadata": {},
   "outputs": [
    {
     "data": {
      "text/plain": [
       "array([[0.2102595 ],\n",
       "       [0.26861   ],\n",
       "       [0.336259  ],\n",
       "       [0.41136283],\n",
       "       [0.45078573]], dtype=float32)"
      ]
     },
     "execution_count": 82,
     "metadata": {},
     "output_type": "execute_result"
    }
   ],
   "source": [
    "model.predict([1, 2, 3, 4, 4.5])"
   ]
  },
  {
   "cell_type": "markdown",
   "id": "337edf97",
   "metadata": {},
   "source": [
    "- x값이 5보다 클 경우 y값 출력"
   ]
  },
  {
   "cell_type": "code",
   "execution_count": 83,
   "id": "84676295",
   "metadata": {},
   "outputs": [
    {
     "data": {
      "text/plain": [
       "array([[0.531005  ],\n",
       "       [0.57077587],\n",
       "       [0.64718616],\n",
       "       [0.7167443 ],\n",
       "       [0.7773076 ],\n",
       "       [0.8280288 ]], dtype=float32)"
      ]
     },
     "execution_count": 83,
     "metadata": {},
     "output_type": "execute_result"
    }
   ],
   "source": [
    "model.predict([5.5, 6, 7, 8, 9, 10])"
   ]
  },
  {
   "cell_type": "markdown",
   "id": "2c9e2e32",
   "metadata": {},
   "source": [
    "---------------------"
   ]
  },
  {
   "cell_type": "markdown",
   "id": "69c6fe9e",
   "metadata": {},
   "source": [
    "# 실습 : 타이타닉 생존 여부(단일 로지스틱회귀)"
   ]
  },
  {
   "cell_type": "code",
   "execution_count": 112,
   "id": "609e9736",
   "metadata": {},
   "outputs": [
    {
     "data": {
      "text/plain": [
       "(891, 12)"
      ]
     },
     "execution_count": 112,
     "metadata": {},
     "output_type": "execute_result"
    }
   ],
   "source": [
    "import pandas as pd\n",
    "\n",
    "df = pd.read_csv('titanic.csv')\n",
    "df.shape"
   ]
  },
  {
   "cell_type": "code",
   "execution_count": 113,
   "id": "abc1eb94",
   "metadata": {},
   "outputs": [
    {
     "name": "stdout",
     "output_type": "stream",
     "text": [
      "<class 'pandas.core.frame.DataFrame'>\n",
      "RangeIndex: 891 entries, 0 to 890\n",
      "Data columns (total 12 columns):\n",
      " #   Column       Non-Null Count  Dtype  \n",
      "---  ------       --------------  -----  \n",
      " 0   PassengerId  891 non-null    int64  \n",
      " 1   Survived     891 non-null    int64  \n",
      " 2   Pclass       891 non-null    int64  \n",
      " 3   Name         891 non-null    object \n",
      " 4   Sex          891 non-null    object \n",
      " 5   Age          714 non-null    float64\n",
      " 6   SibSp        891 non-null    int64  \n",
      " 7   Parch        891 non-null    int64  \n",
      " 8   Ticket       891 non-null    object \n",
      " 9   Fare         891 non-null    float64\n",
      " 10  Cabin        204 non-null    object \n",
      " 11  Embarked     889 non-null    object \n",
      "dtypes: float64(2), int64(5), object(5)\n",
      "memory usage: 83.7+ KB\n"
     ]
    }
   ],
   "source": [
    "df.info()"
   ]
  },
  {
   "cell_type": "markdown",
   "id": "43c9b952",
   "metadata": {},
   "source": [
    "- int64 : 정수형, float64 : 소수형, object : 문자열\n",
    "\n",
    "#### 데이터 누락\n",
    "- Age          714 non-null    float64\n",
    "- Cabin        204 non-null    object"
   ]
  },
  {
   "cell_type": "code",
   "execution_count": 114,
   "id": "9b419db6",
   "metadata": {},
   "outputs": [
    {
     "data": {
      "text/html": [
       "<div>\n",
       "<style scoped>\n",
       "    .dataframe tbody tr th:only-of-type {\n",
       "        vertical-align: middle;\n",
       "    }\n",
       "\n",
       "    .dataframe tbody tr th {\n",
       "        vertical-align: top;\n",
       "    }\n",
       "\n",
       "    .dataframe thead th {\n",
       "        text-align: right;\n",
       "    }\n",
       "</style>\n",
       "<table border=\"1\" class=\"dataframe\">\n",
       "  <thead>\n",
       "    <tr style=\"text-align: right;\">\n",
       "      <th></th>\n",
       "      <th>PassengerId</th>\n",
       "      <th>Survived</th>\n",
       "      <th>Pclass</th>\n",
       "      <th>Name</th>\n",
       "      <th>Sex</th>\n",
       "      <th>Age</th>\n",
       "      <th>SibSp</th>\n",
       "      <th>Parch</th>\n",
       "      <th>Ticket</th>\n",
       "      <th>Fare</th>\n",
       "      <th>Cabin</th>\n",
       "      <th>Embarked</th>\n",
       "    </tr>\n",
       "  </thead>\n",
       "  <tbody>\n",
       "    <tr>\n",
       "      <th>0</th>\n",
       "      <td>1</td>\n",
       "      <td>0</td>\n",
       "      <td>3</td>\n",
       "      <td>Braund, Mr. Owen Harris</td>\n",
       "      <td>male</td>\n",
       "      <td>22.0</td>\n",
       "      <td>1</td>\n",
       "      <td>0</td>\n",
       "      <td>A/5 21171</td>\n",
       "      <td>7.2500</td>\n",
       "      <td>NaN</td>\n",
       "      <td>S</td>\n",
       "    </tr>\n",
       "    <tr>\n",
       "      <th>1</th>\n",
       "      <td>2</td>\n",
       "      <td>1</td>\n",
       "      <td>1</td>\n",
       "      <td>Cumings, Mrs. John Bradley (Florence Briggs Th...</td>\n",
       "      <td>female</td>\n",
       "      <td>38.0</td>\n",
       "      <td>1</td>\n",
       "      <td>0</td>\n",
       "      <td>PC 17599</td>\n",
       "      <td>71.2833</td>\n",
       "      <td>C85</td>\n",
       "      <td>C</td>\n",
       "    </tr>\n",
       "    <tr>\n",
       "      <th>2</th>\n",
       "      <td>3</td>\n",
       "      <td>1</td>\n",
       "      <td>3</td>\n",
       "      <td>Heikkinen, Miss. Laina</td>\n",
       "      <td>female</td>\n",
       "      <td>26.0</td>\n",
       "      <td>0</td>\n",
       "      <td>0</td>\n",
       "      <td>STON/O2. 3101282</td>\n",
       "      <td>7.9250</td>\n",
       "      <td>NaN</td>\n",
       "      <td>S</td>\n",
       "    </tr>\n",
       "    <tr>\n",
       "      <th>3</th>\n",
       "      <td>4</td>\n",
       "      <td>1</td>\n",
       "      <td>1</td>\n",
       "      <td>Futrelle, Mrs. Jacques Heath (Lily May Peel)</td>\n",
       "      <td>female</td>\n",
       "      <td>35.0</td>\n",
       "      <td>1</td>\n",
       "      <td>0</td>\n",
       "      <td>113803</td>\n",
       "      <td>53.1000</td>\n",
       "      <td>C123</td>\n",
       "      <td>S</td>\n",
       "    </tr>\n",
       "    <tr>\n",
       "      <th>4</th>\n",
       "      <td>5</td>\n",
       "      <td>0</td>\n",
       "      <td>3</td>\n",
       "      <td>Allen, Mr. William Henry</td>\n",
       "      <td>male</td>\n",
       "      <td>35.0</td>\n",
       "      <td>0</td>\n",
       "      <td>0</td>\n",
       "      <td>373450</td>\n",
       "      <td>8.0500</td>\n",
       "      <td>NaN</td>\n",
       "      <td>S</td>\n",
       "    </tr>\n",
       "  </tbody>\n",
       "</table>\n",
       "</div>"
      ],
      "text/plain": [
       "   PassengerId  Survived  Pclass  \\\n",
       "0            1         0       3   \n",
       "1            2         1       1   \n",
       "2            3         1       3   \n",
       "3            4         1       1   \n",
       "4            5         0       3   \n",
       "\n",
       "                                                Name     Sex   Age  SibSp  \\\n",
       "0                            Braund, Mr. Owen Harris    male  22.0      1   \n",
       "1  Cumings, Mrs. John Bradley (Florence Briggs Th...  female  38.0      1   \n",
       "2                             Heikkinen, Miss. Laina  female  26.0      0   \n",
       "3       Futrelle, Mrs. Jacques Heath (Lily May Peel)  female  35.0      1   \n",
       "4                           Allen, Mr. William Henry    male  35.0      0   \n",
       "\n",
       "   Parch            Ticket     Fare Cabin Embarked  \n",
       "0      0         A/5 21171   7.2500   NaN        S  \n",
       "1      0          PC 17599  71.2833   C85        C  \n",
       "2      0  STON/O2. 3101282   7.9250   NaN        S  \n",
       "3      0            113803  53.1000  C123        S  \n",
       "4      0            373450   8.0500   NaN        S  "
      ]
     },
     "execution_count": 114,
     "metadata": {},
     "output_type": "execute_result"
    }
   ],
   "source": [
    "df.head()"
   ]
  },
  {
   "attachments": {
    "%E1%84%89%E1%85%B3%E1%84%8F%E1%85%B3%E1%84%85%E1%85%B5%E1%86%AB%E1%84%89%E1%85%A3%E1%86%BA%202021-11-27%20%E1%84%8B%E1%85%A9%E1%84%92%E1%85%AE%202.14.48.png": {
     "image/png": "[encoded data removed]"
    }
   },
   "cell_type": "markdown",
   "id": "903e4598",
   "metadata": {},
   "source": [
    "![%E1%84%89%E1%85%B3%E1%84%8F%E1%85%B3%E1%84%85%E1%85%B5%E1%86%AB%E1%84%89%E1%85%A3%E1%86%BA%202021-11-27%20%E1%84%8B%E1%85%A9%E1%84%92%E1%85%AE%202.14.48.png](attachment:%E1%84%89%E1%85%B3%E1%84%8F%E1%85%B3%E1%84%85%E1%85%B5%E1%86%AB%E1%84%89%E1%85%A3%E1%86%BA%202021-11-27%20%E1%84%8B%E1%85%A9%E1%84%92%E1%85%AE%202.14.48.png)"
   ]
  },
  {
   "cell_type": "markdown",
   "id": "581382f5",
   "metadata": {},
   "source": [
    "# 데이터 전처리\n",
    "\n",
    "- 생존과 관련된 필드 : Sex, Age, Pclass\n",
    "- 여성, 어린이, 1/2/3등석 순으로 생존확률이 높다고 가정할 경우\n",
    "- 문자열을 숫자로 변환(one-hot-incoding) : 성별 -> 남자 : 0, 여자 : 1"
   ]
  },
  {
   "cell_type": "code",
   "execution_count": 115,
   "id": "b6a5eedc",
   "metadata": {},
   "outputs": [],
   "source": [
    "df['Sex'] = df['Sex'].map({'female':1, 'male':0})"
   ]
  },
  {
   "cell_type": "markdown",
   "id": "9fb398ee",
   "metadata": {},
   "source": [
    "# 결측치 : 누락된 데이터\n",
    "\n",
    "### 결측치 데이터 채우기\n",
    "1. 항목제거\n",
    "2. 평균 빈 곳을 0이나 1로 채운다"
   ]
  },
  {
   "cell_type": "code",
   "execution_count": 116,
   "id": "70607c8a",
   "metadata": {},
   "outputs": [],
   "source": [
    "df['Age'].fillna(value=df['Age'].mean(), inplace=True)"
   ]
  },
  {
   "cell_type": "markdown",
   "id": "ffe6abf9",
   "metadata": {},
   "source": [
    "- features 분리 : 객실등급"
   ]
  },
  {
   "cell_type": "code",
   "execution_count": 117,
   "id": "19fe7115",
   "metadata": {},
   "outputs": [],
   "source": [
    "df['FirstClass'] = df['Pclass'].apply(lambda x : 1 if x==1 else 0)\n",
    "df['SecondClass'] = df['Pclass'].apply(lambda x: 1 if x==2 else 0)"
   ]
  },
  {
   "cell_type": "markdown",
   "id": "a97d0c45",
   "metadata": {},
   "source": [
    "- 데이터 확인"
   ]
  },
  {
   "cell_type": "code",
   "execution_count": 118,
   "id": "e8e8725b",
   "metadata": {},
   "outputs": [],
   "source": [
    "features = df[['Sex', 'Age', 'FirstClass', 'SecondClass']]\n",
    "survival = df['Survived']"
   ]
  },
  {
   "cell_type": "markdown",
   "id": "5941e98c",
   "metadata": {},
   "source": [
    "- 학습데이터와 테스트데이터 분리하기"
   ]
  },
  {
   "cell_type": "code",
   "execution_count": 119,
   "id": "c6856dc7",
   "metadata": {},
   "outputs": [],
   "source": [
    "# 학습용/테스트용을 선언하지 않으면 기본값으로 75%, 25%로 분할한다.\n",
    "\n",
    "from sklearn.model_selection import train_test_split\n",
    "\n",
    "train_data, test_data, train_label, test_label = train_test_split(features, survival)"
   ]
  },
  {
   "cell_type": "code",
   "execution_count": 120,
   "id": "5753b644",
   "metadata": {},
   "outputs": [
    {
     "data": {
      "text/plain": [
       "(668, 4)"
      ]
     },
     "execution_count": 120,
     "metadata": {},
     "output_type": "execute_result"
    }
   ],
   "source": [
    "train_data.shape"
   ]
  },
  {
   "cell_type": "code",
   "execution_count": 121,
   "id": "a7eb4e1b",
   "metadata": {},
   "outputs": [
    {
     "data": {
      "text/plain": [
       "(223, 4)"
      ]
     },
     "execution_count": 121,
     "metadata": {},
     "output_type": "execute_result"
    }
   ],
   "source": [
    "test_data.shape"
   ]
  },
  {
   "cell_type": "markdown",
   "id": "a3155c1c",
   "metadata": {},
   "source": [
    "- StandardScaler 를 사용하여 데이터의 정규화(스케일링)를 진행한다."
   ]
  },
  {
   "cell_type": "code",
   "execution_count": 122,
   "id": "3991f214",
   "metadata": {},
   "outputs": [],
   "source": [
    "from sklearn.preprocessing import StandardScaler\n",
    "\n",
    "scaler = StandardScaler()\n",
    "\n",
    "train_data = scaler.fit_transform(train_data)\n",
    "test_data = scaler.fit_transform(test_data)"
   ]
  },
  {
   "cell_type": "code",
   "execution_count": 123,
   "id": "d374aabd",
   "metadata": {},
   "outputs": [
    {
     "data": {
      "text/plain": [
       "LogisticRegression()"
      ]
     },
     "execution_count": 123,
     "metadata": {},
     "output_type": "execute_result"
    }
   ],
   "source": [
    "# 모델링 생성\n",
    "\n",
    "from sklearn.linear_model import LogisticRegression\n",
    "\n",
    "model = LogisticRegression()\n",
    "\n",
    "model.fit(train_data, train_label)"
   ]
  },
  {
   "cell_type": "code",
   "execution_count": 124,
   "id": "faa301c5",
   "metadata": {},
   "outputs": [
    {
     "data": {
      "text/plain": [
       "0.7904191616766467"
      ]
     },
     "execution_count": 124,
     "metadata": {},
     "output_type": "execute_result"
    }
   ],
   "source": [
    "# 정확도 출력\n",
    "\n",
    "model.score(train_data, train_label)"
   ]
  },
  {
   "cell_type": "code",
   "execution_count": 98,
   "id": "4ad9f98f",
   "metadata": {},
   "outputs": [
    {
     "data": {
      "text/plain": [
       "0.8385650224215246"
      ]
     },
     "execution_count": 98,
     "metadata": {},
     "output_type": "execute_result"
    }
   ],
   "source": [
    "# 테스트용 정확도\n",
    "\n",
    "model.score(test_data, test_label)"
   ]
  },
  {
   "cell_type": "code",
   "execution_count": 125,
   "id": "0a859c93",
   "metadata": {},
   "outputs": [
    {
     "data": {
      "text/plain": [
       "array([[ 1.19770092, -0.43549374,  0.87957056,  0.49219302]])"
      ]
     },
     "execution_count": 125,
     "metadata": {},
     "output_type": "execute_result"
    }
   ],
   "source": [
    "model.coef_"
   ]
  },
  {
   "cell_type": "markdown",
   "id": "bba1dd1e",
   "metadata": {},
   "source": [
    "#### ['Sex', 'Age', 'FirstClass', 'SecondClass']\n",
    "\n",
    "- 성별 : 1.1585\n",
    "- 나이 : -0.388 (음수란 뜻은 나이가 많을 수록 생존확률이 낮아진다)로 해석\n",
    "- 1등급 : 0.986 \n",
    "- 2등급 : 0.52334\n",
    "\n",
    "--> 2등급 보다는 1등급 생존확률이 높다"
   ]
  },
  {
   "cell_type": "markdown",
   "id": "6cf5d12c",
   "metadata": {},
   "source": [
    "#### 예측"
   ]
  },
  {
   "cell_type": "code",
   "execution_count": 100,
   "id": "25567007",
   "metadata": {},
   "outputs": [],
   "source": [
    "import numpy as np\n",
    "\n",
    "hyun = np.array([1.0, 30.0, 1.0, 0.0])\n",
    "jack = np.array([0.0, 20.0, 0.0, 0.0])\n",
    "rose = np.array([1.0, 17.0, 1.0, 0.0])\n",
    "gildong = np.array([0.0, 42.0, 0.0, 1.0])\n",
    "\n",
    "sample_df = np.array([hyun, jack, rose, gildong])"
   ]
  },
  {
   "cell_type": "code",
   "execution_count": 101,
   "id": "4f7b423d",
   "metadata": {},
   "outputs": [
    {
     "name": "stderr",
     "output_type": "stream",
     "text": [
      "/Library/Frameworks/Python.framework/Versions/3.8/lib/python3.8/site-packages/sklearn/base.py:445: UserWarning: X does not have valid feature names, but StandardScaler was fitted with feature names\n",
      "  warnings.warn(\n"
     ]
    }
   ],
   "source": [
    "sample_df = scaler.transform(sample_df)"
   ]
  },
  {
   "cell_type": "code",
   "execution_count": 102,
   "id": "09058ee7",
   "metadata": {},
   "outputs": [
    {
     "data": {
      "text/plain": [
       "array([1, 0, 1, 0])"
      ]
     },
     "execution_count": 102,
     "metadata": {},
     "output_type": "execute_result"
    }
   ],
   "source": [
    "model.predict(sample_df)"
   ]
  },
  {
   "cell_type": "code",
   "execution_count": 127,
   "id": "d955f18f",
   "metadata": {},
   "outputs": [
    {
     "name": "stderr",
     "output_type": "stream",
     "text": [
      "/Library/Frameworks/Python.framework/Versions/3.8/lib/python3.8/site-packages/sklearn/base.py:445: UserWarning: X does not have valid feature names, but StandardScaler was fitted with feature names\n",
      "  warnings.warn(\n"
     ]
    },
    {
     "data": {
      "text/plain": [
       "array([1, 0, 1, 0])"
      ]
     },
     "execution_count": 127,
     "metadata": {},
     "output_type": "execute_result"
    }
   ],
   "source": [
    "import numpy as np\n",
    "\n",
    "hyun2 = np.array([1.0, 30.0, 0.0, 0.0]) # 1등급에서 3등급으로 수정\n",
    "jack2 = np.array([0.0, 20.0, 0.0, 0.0])\n",
    "rose2 = np.array([1.0, 17.0, 1.0, 0.0])\n",
    "gildong2 = np.array([0.0, 42.0, 0.0, 1.0])\n",
    "\n",
    "sample_df2 = np.array([hyun2, jack2, rose2, gildong2])\n",
    "\n",
    "sample_df2 = scaler.transform(sample_df2)\n",
    "\n",
    "model.predict(sample_df2)"
   ]
  },
  {
   "cell_type": "markdown",
   "id": "1165075f",
   "metadata": {},
   "source": [
    "### 생존 / 사망 확률 비교"
   ]
  },
  {
   "cell_type": "code",
   "execution_count": 128,
   "id": "2581c5c9",
   "metadata": {},
   "outputs": [
    {
     "data": {
      "text/plain": [
       "array([[0.06254899, 0.93745101],\n",
       "       [0.85598382, 0.14401618],\n",
       "       [0.04050649, 0.95949351],\n",
       "       [0.80228294, 0.19771706]])"
      ]
     },
     "execution_count": 128,
     "metadata": {},
     "output_type": "execute_result"
    }
   ],
   "source": [
    "model.predict_proba(sample_df)"
   ]
  },
  {
   "cell_type": "markdown",
   "id": "a30c0dd4",
   "metadata": {},
   "source": [
    "# 다중입력 로지스틱 회귀 : AND 연산"
   ]
  },
  {
   "cell_type": "code",
   "execution_count": 129,
   "id": "ca21821b",
   "metadata": {},
   "outputs": [],
   "source": [
    "from tensorflow.keras.models import Sequential\n",
    "from tensorflow.keras.layers import Dense, Activation\n",
    "import numpy as np"
   ]
  },
  {
   "cell_type": "code",
   "execution_count": 130,
   "id": "3e38884e",
   "metadata": {},
   "outputs": [],
   "source": [
    "model = Sequential()\n",
    "\n",
    "# 2개의 입력을 받아서 1개의 출력을 생성한다.\n",
    "model.add(Dense(input_dim=2, units=1))\n",
    "\n",
    "# 이전 단계의 출력값을 입력으로 다시 리턴받아 시그모이드 출력한다.\n",
    "model.add(Activation('sigmoid')) # 기준값 이하이면 0, 이상이면 1을 출력\n",
    "\n",
    "# 경사하강법으로 학습을 진행하고 \n",
    "# binary_accuracy는 출력값이 0.5 이상일 경우 1로 판단하고,\n",
    "# 그렇지 않으면 0으로 판단한다.\n",
    "\n",
    "model.compile(loss='binary_crossentropy', optimizer='sgd',\n",
    "             metrics=['binary_accuracy'])"
   ]
  },
  {
   "cell_type": "markdown",
   "id": "b5eee47b",
   "metadata": {},
   "source": [
    "- AND 연산 데이터 생성"
   ]
  },
  {
   "cell_type": "code",
   "execution_count": 131,
   "id": "86ddc1f2",
   "metadata": {},
   "outputs": [],
   "source": [
    "X = np.array([(0, 0), (0, 1), (1, 0), (1, 1)])\n",
    "y = np.array([0, 0, 0, 1])"
   ]
  },
  {
   "cell_type": "code",
   "execution_count": null,
   "id": "b33eeda0",
   "metadata": {},
   "outputs": [],
   "source": [
    "# 반복학습을 통해 최적의 w1, w2, b를 찾는다.\n",
    "\n"
   ]
  },
  {
   "attachments": {
    "image.png": {
     "image/png": "[encoded data removed]"
    }
   },
   "cell_type": "markdown",
   "id": "f1ca087d",
   "metadata": {},
   "source": [
    "![image.png](attachment:image.png)"
   ]
  },
  {
   "cell_type": "code",
   "execution_count": 135,
   "id": "45863bf7",
   "metadata": {},
   "outputs": [
    {
     "data": {
      "text/plain": [
       "<keras.callbacks.History at 0x7f988c483910>"
      ]
     },
     "execution_count": 135,
     "metadata": {},
     "output_type": "execute_result"
    }
   ],
   "source": [
    "model.fit(X, y, epochs=5000, verbose=0) # verbose 0 이면 과정을 안보여줌. 1이면 출력"
   ]
  },
  {
   "cell_type": "markdown",
   "id": "92256f19",
   "metadata": {},
   "source": [
    "- 학습결과에 따른 실제 모델의 출력값 확인"
   ]
  },
  {
   "cell_type": "code",
   "execution_count": 136,
   "id": "d5dbbfa2",
   "metadata": {},
   "outputs": [
    {
     "data": {
      "text/plain": [
       "array([[0.03254005],\n",
       "       [0.22183478],\n",
       "       [0.20461068],\n",
       "       [0.68556654]], dtype=float32)"
      ]
     },
     "execution_count": 136,
     "metadata": {},
     "output_type": "execute_result"
    }
   ],
   "source": [
    "model.predict(X)"
   ]
  },
  {
   "cell_type": "code",
   "execution_count": 137,
   "id": "2138ef63",
   "metadata": {},
   "outputs": [
    {
     "name": "stdout",
     "output_type": "stream",
     "text": [
      "Model: \"sequential_2\"\n",
      "_________________________________________________________________\n",
      " Layer (type)                Output Shape              Param #   \n",
      "=================================================================\n",
      " dense_2 (Dense)             (None, 1)                 3         \n",
      "                                                                 \n",
      " activation_1 (Activation)   (None, 1)                 0         \n",
      "                                                                 \n",
      "=================================================================\n",
      "Total params: 3\n",
      "Trainable params: 3\n",
      "Non-trainable params: 0\n",
      "_________________________________________________________________\n"
     ]
    }
   ],
   "source": [
    "model.summary()"
   ]
  },
  {
   "cell_type": "markdown",
   "id": "58da21f1",
   "metadata": {},
   "source": [
    "- 첫번째 레이어에 존재하는 w1, w2, b 확인"
   ]
  },
  {
   "cell_type": "code",
   "execution_count": 138,
   "id": "f7ff2ab7",
   "metadata": {},
   "outputs": [
    {
     "data": {
      "text/plain": [
       "[<tf.Variable 'dense_2/kernel:0' shape=(2, 1) dtype=float32, numpy=\n",
       " array([[2.034479 ],\n",
       "        [2.1371956]], dtype=float32)>,\n",
       " <tf.Variable 'dense_2/bias:0' shape=(1,) dtype=float32, numpy=array([-3.3922017], dtype=float32)>]"
      ]
     },
     "execution_count": 138,
     "metadata": {},
     "output_type": "execute_result"
    }
   ],
   "source": [
    "model.layers[0].weights"
   ]
  },
  {
   "cell_type": "code",
   "execution_count": 139,
   "id": "d916d077",
   "metadata": {},
   "outputs": [
    {
     "data": {
      "text/plain": [
       "[array([[2.034479 ],\n",
       "        [2.1371956]], dtype=float32),\n",
       " array([-3.3922017], dtype=float32)]"
      ]
     },
     "execution_count": 139,
     "metadata": {},
     "output_type": "execute_result"
    }
   ],
   "source": [
    "model.layers[0].get_weights()"
   ]
  },
  {
   "cell_type": "markdown",
   "id": "6c50f263",
   "metadata": {},
   "source": [
    "-----------------"
   ]
  },
  {
   "cell_type": "markdown",
   "id": "8a129418",
   "metadata": {},
   "source": [
    "# 딥러닝"
   ]
  },
  {
   "cell_type": "markdown",
   "id": "8d454075",
   "metadata": {},
   "source": [
    "# AND, OR, XOR"
   ]
  },
  {
   "cell_type": "code",
   "execution_count": 140,
   "id": "47efaec2",
   "metadata": {},
   "outputs": [],
   "source": [
    "import tensorflow as tf\n",
    "\n",
    "tf.random.set_seed(678)"
   ]
  },
  {
   "cell_type": "code",
   "execution_count": 141,
   "id": "713d324e",
   "metadata": {},
   "outputs": [],
   "source": [
    "T = 1.0\n",
    "F = 0.0\n",
    "bias = 1.0"
   ]
  },
  {
   "cell_type": "code",
   "execution_count": 154,
   "id": "8dcc831e",
   "metadata": {},
   "outputs": [],
   "source": [
    "# AND 함수\n",
    "\n",
    "def get_AND_data() :\n",
    "    X = [\n",
    "        [F, F, bias],\n",
    "        [F, T, bias],\n",
    "        [T, F, bias],\n",
    "        [T, T, bias]\n",
    "    ]\n",
    "    \n",
    "    y = [\n",
    "        [F], [F], [F], [T]\n",
    "    ]\n",
    "    \n",
    "    return X, y"
   ]
  },
  {
   "cell_type": "code",
   "execution_count": 143,
   "id": "8e03b264",
   "metadata": {},
   "outputs": [],
   "source": [
    "# OR 함수\n",
    "\n",
    "def get_OR_data() :\n",
    "    X = [\n",
    "        [F, F, bias],\n",
    "        [F, T, bias],\n",
    "        [T, F, bias],\n",
    "        [T, T, bias]\n",
    "    ]\n",
    "    \n",
    "    y = [\n",
    "        [F], [T], [T], [T]\n",
    "    ]\n",
    "    \n",
    "    return X, y"
   ]
  },
  {
   "cell_type": "code",
   "execution_count": 144,
   "id": "00e7068b",
   "metadata": {},
   "outputs": [],
   "source": [
    "# XOR 함수\n",
    "\n",
    "def get_XOR_data() :\n",
    "    X = [\n",
    "        [F, F, bias],\n",
    "        [F, T, bias],\n",
    "        [T, F, bias],\n",
    "        [T, T, bias]\n",
    "    ]\n",
    "    \n",
    "    y = [\n",
    "        [F], [T], [T], [F]\n",
    "    ]\n",
    "    \n",
    "    return X, y"
   ]
  },
  {
   "cell_type": "markdown",
   "id": "041c8cc1",
   "metadata": {},
   "source": [
    "- AND 연산을 할 경우"
   ]
  },
  {
   "cell_type": "code",
   "execution_count": 155,
   "id": "572d1f00",
   "metadata": {},
   "outputs": [],
   "source": [
    "X, y = get_AND_data()"
   ]
  },
  {
   "cell_type": "code",
   "execution_count": 156,
   "id": "4def2fb9",
   "metadata": {},
   "outputs": [
    {
     "name": "stdout",
     "output_type": "stream",
     "text": [
      "[[0.0, 0.0, 1.0], [0.0, 1.0, 1.0], [1.0, 0.0, 1.0], [1.0, 1.0, 1.0]]\n"
     ]
    }
   ],
   "source": [
    "print(X)"
   ]
  },
  {
   "cell_type": "code",
   "execution_count": 157,
   "id": "76e373b1",
   "metadata": {},
   "outputs": [
    {
     "name": "stdout",
     "output_type": "stream",
     "text": [
      "[[0.0], [0.0], [0.0], [1.0]]\n"
     ]
    }
   ],
   "source": [
    "print(y)"
   ]
  },
  {
   "cell_type": "markdown",
   "id": "69cc197f",
   "metadata": {},
   "source": [
    "## 텐서플로우를 사용해 퍼셉트론을 구현한다."
   ]
  },
  {
   "cell_type": "code",
   "execution_count": 158,
   "id": "4d3b0439",
   "metadata": {},
   "outputs": [],
   "source": [
    "class Perceptron:\n",
    "    def __init__(self):\n",
    "        # 논리연산을 위한 입력값 X, Y와 편향값 (b)를 받을 것이므로, weight를 [3,1]로 설정합니다.  \n",
    "        # 3은 세개의 입력을 의미하고, 1은 한개의 뉴론임을 의미합니다.\n",
    "        self.W = tf.Variable(tf.random.normal([3, 1]))\n",
    "    \n",
    "    def train(self,X):\n",
    "        err = 1\n",
    "        epoch, max_epochs = 0, 20\n",
    "        while err > 0.0 and epoch < max_epochs:\n",
    "            epoch += 1\n",
    "            self.optimize(X)\n",
    "            # MSE (평균제곱오차)를 관찰하며, 학습이 진행되는 동안, 에러(MSE)가 줄어듬을 확인합니다.\n",
    "            err = self.mse(y, self.pred(X)).numpy()\n",
    "            print('epoch:', epoch, 'mse:', err)\n",
    "    \n",
    "    \n",
    "    # @tf.function 과 AutoGraph 모듈을 사용하여 자동으로 그래프로 변환해줍니다\n",
    "    # Python code 함수를 정의하기 전에 @tf.function 데코레이터를 써주면 됩니다. \n",
    "    @tf.function\n",
    "    def faster_pred(self, X):\n",
    "        return self.step(tf.matmul(X, self.W))\n",
    "    \n",
    "    def pred(self, X):\n",
    "        return self.step(tf.matmul(X, self.W))\n",
    "       \n",
    "    def mse(self, y, y_hat):\n",
    "        return tf.reduce_mean(tf.square(tf.subtract(y, y_hat)))\n",
    "    \n",
    "    def step(self,x):\n",
    "        # step(x) = { 1 if x > 0; 0 otherwise }\n",
    "        return tf.dtypes.cast(tf.math.greater(x, 0), tf.float32)\n",
    "\n",
    "    def optimize(self, X):\n",
    "        \"\"\"\n",
    "        퍼셉트론은 경사하강법을 사용한 최적화가 불가능합니다.\n",
    "        매번 학습을 진행할 때마다 가중치를 아래의 룰에 맞게 업데이트합니다.  \n",
    "\n",
    "        if target == 1 and activation == 0:  \n",
    "          w_new = w_old + input  \n",
    "\n",
    "        if target == 0 and activation == 1:  \n",
    "          w_new = w_old - input  \n",
    "\n",
    "        위의 두가지 조건은 아래의 코드로 간단히 구현 가능합니다.  \n",
    "        \"\"\"\n",
    "        delta = tf.matmul(X, tf.subtract(y, self.step(tf.matmul(X, self.W))), transpose_a=True)\n",
    "        self.W.assign(self.W+delta)"
   ]
  },
  {
   "cell_type": "code",
   "execution_count": 159,
   "id": "8adcc4b3",
   "metadata": {},
   "outputs": [],
   "source": [
    "perceptron = Perceptron()"
   ]
  },
  {
   "cell_type": "code",
   "execution_count": 160,
   "id": "b727191a",
   "metadata": {},
   "outputs": [
    {
     "name": "stdout",
     "output_type": "stream",
     "text": [
      "epoch: 1 mse: 0.25\n",
      "epoch: 2 mse: 0.5\n",
      "epoch: 3 mse: 0.25\n",
      "epoch: 4 mse: 0.25\n",
      "epoch: 5 mse: 0.5\n",
      "epoch: 6 mse: 0.25\n",
      "epoch: 7 mse: 0.0\n"
     ]
    }
   ],
   "source": [
    "perceptron.train(X)"
   ]
  },
  {
   "cell_type": "code",
   "execution_count": null,
   "id": "f06b20e8",
   "metadata": {},
   "outputs": [],
   "source": []
  },
  {
   "cell_type": "code",
   "execution_count": null,
   "id": "2c5b85dd",
   "metadata": {},
   "outputs": [],
   "source": [
    "perceptron."
   ]
  },
  {
   "cell_type": "code",
   "execution_count": null,
   "id": "1d4c1ed1",
   "metadata": {},
   "outputs": [],
   "source": [
    "# 테스트 \n",
    "perceptron.pred(X).numpy()"
   ]
  },
  {
   "cell_type": "markdown",
   "id": "dade2fbc",
   "metadata": {},
   "source": [
    "# 실행속도 확인 "
   ]
  },
  {
   "cell_type": "code",
   "execution_count": null,
   "id": "fd20c71c",
   "metadata": {},
   "outputs": [],
   "source": [
    "import timeit\n",
    "\n",
    "# timeit 모듈은 전체 실행시간이 아닌 특정함수나 특정코드의 실행시간을 측정한다.\n",
    "\n",
    "%timeit perceptron.pred(X).numpy()"
   ]
  },
  {
   "cell_type": "markdown",
   "id": "8064417c",
   "metadata": {},
   "source": [
    "#### 기본적인 AND GATE"
   ]
  },
  {
   "cell_type": "code",
   "execution_count": 161,
   "id": "b29401cd",
   "metadata": {},
   "outputs": [],
   "source": [
    "import numpy as np\n",
    "\n",
    "def AND_basic(x1, x2) :\n",
    "    w1, w2, theta = 0.5, 0.5, 0.7\n",
    "    tmp = x1 * w1 + x2 * w2\n",
    "    \n",
    "    if tmp <= theta :\n",
    "        return 0\n",
    "    elif tmp > theta:\n",
    "        return 1"
   ]
  },
  {
   "cell_type": "code",
   "execution_count": 163,
   "id": "f37e5cd8",
   "metadata": {},
   "outputs": [
    {
     "name": "stdout",
     "output_type": "stream",
     "text": [
      "(0, 0) --> 0\n",
      "(0, 1) --> 0\n",
      "(1, 0) --> 0\n",
      "(1, 1) --> 1\n"
     ]
    }
   ],
   "source": [
    "inputs = [(0, 0), (0, 1), (1, 0), (1, 1)]\n",
    "\n",
    "for x1, x2 in inputs:\n",
    "    y = AND_basic(x1, x2)\n",
    "    print(\"({0}, {1}) --> {2}\".format(x1, x2, y))"
   ]
  },
  {
   "cell_type": "markdown",
   "id": "b652d286",
   "metadata": {},
   "source": [
    "#### 기본적인 OR GATE"
   ]
  }
 ],
 "metadata": {
  "kernelspec": {
   "display_name": "Python 3 (ipykernel)",
   "language": "python",
   "name": "python3"
  },
  "language_info": {
   "codemirror_mode": {
    "name": "ipython",
    "version": 3
   },
   "file_extension": ".py",
   "mimetype": "text/x-python",
   "name": "python",
   "nbconvert_exporter": "python",
   "pygments_lexer": "ipython3",
   "version": "3.8.7"
  }
 },
 "nbformat": 4,
 "nbformat_minor": 5
}
