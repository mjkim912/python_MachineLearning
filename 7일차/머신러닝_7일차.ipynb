{
 "cells": [
  {
   "cell_type": "markdown",
   "id": "e63daac2",
   "metadata": {},
   "source": [
    "# 자연어 분석"
   ]
  },
  {
   "cell_type": "markdown",
   "id": "217ee08d",
   "metadata": {},
   "source": [
    "1. JDK 설치\n",
    "\n",
    "2. 자바 환경설정\n",
    "    - 64bit\n",
    "\n",
    "3. koNLPy 설치\n",
    "\n",
    "4. WordClound 설치"
   ]
  },
  {
   "cell_type": "code",
   "execution_count": null,
   "id": "c6a9c93c",
   "metadata": {},
   "outputs": [],
   "source": []
  }
 ],
 "metadata": {
  "kernelspec": {
   "display_name": "Python 3 (ipykernel)",
   "language": "python",
   "name": "python3"
  },
  "language_info": {
   "codemirror_mode": {
    "name": "ipython",
    "version": 3
   },
   "file_extension": ".py",
   "mimetype": "text/x-python",
   "name": "python",
   "nbconvert_exporter": "python",
   "pygments_lexer": "ipython3",
   "version": "3.8.7"
  }
 },
 "nbformat": 4,
 "nbformat_minor": 5
}
